{
 "cells": [
  {
   "cell_type": "code",
   "execution_count": 273,
   "id": "electronic-positive",
   "metadata": {},
   "outputs": [],
   "source": [
    "%reset -f"
   ]
  },
  {
   "cell_type": "code",
   "execution_count": 2,
   "id": "short-lightweight",
   "metadata": {},
   "outputs": [],
   "source": [
    "import pandas as pd\n",
    "import numpy as np\n",
    "from ipywidgets import AppLayout, Button, GridspecLayout, Image, Layout, Text, Box\n",
    "import random\n",
    "from sklearn import preprocessing\n",
    "import sklearn\n",
    "from sklearn.model_selection import train_test_split\n",
    "import random\n",
    "from sklearn.linear_model import LogisticRegression\n",
    "import matplotlib.pyplot as plt\n",
    "from random import randint\n",
    "from sklearn.model_selection import cross_validate\n",
    "from sklearn.model_selection import RandomizedSearchCV\n",
    "from sklearn.model_selection import KFold\n",
    "from sklearn.model_selection import cross_val_score\n",
    "from sklearn.datasets import make_hastie_10_2\n",
    "from sklearn.ensemble import GradientBoostingClassifier\n",
    "from sklearn.linear_model import LogisticRegression\n",
    "from sklearn.neighbors import KNeighborsClassifier\n",
    "from sklearn.ensemble import AdaBoostClassifier\n",
    "from sklearn.datasets import make_classification\n",
    "from sklearn.ensemble import RandomForestRegressor\n",
    "import warnings\n",
    "warnings.filterwarnings(\"ignore\")"
   ]
  },
  {
   "cell_type": "code",
   "execution_count": 3,
   "id": "surrounded-invention",
   "metadata": {},
   "outputs": [],
   "source": [
    "readers = pd.read_csv('vgsales.csv')           #on importe notre base de données\n",
    "copy = readers                                 #on effectue un copie de la base de données avant pré-processing"
   ]
  },
  {
   "cell_type": "markdown",
   "id": "vulnerable-scheduling",
   "metadata": {},
   "source": [
    "# Explication du projet"
   ]
  },
  {
   "cell_type": "markdown",
   "id": "reverse-locking",
   "metadata": {},
   "source": [
    "Nous avons trouvé notre base de données su kaggle à l'adresse suivante : https://www.kaggle.com/kedokedokedo/vgsales\n",
    "\n",
    "Notre base de données contient des informations sur chaque jeu ainsi que ses ventes. \n",
    "\n",
    "Le but de notre projet sera de conseiller des acheteurs selon leurs préférences de jeux vidéos. Nos labels seront donc une colonne 'Interested' que nous allons créer. Notre base de données n'est donc pas labelisé et nous allons donc essayer de simuler dans ce projet les préférences d'un acheteur. \n",
    "\n",
    "Nous allons essayer de labeliser nos données de manières différentes.\n",
    "\n",
    "A la fin du projet, l'objectif est de faire une application en direct et appliquer le meilleur modèle trouvé aux étapes précédentes à chaque fois qu'un jeu vidéo est labelisé.\n"
   ]
  },
  {
   "cell_type": "markdown",
   "id": "identified-strengthening",
   "metadata": {},
   "source": [
    "Voici le plan de notre projet : \n",
    "\n",
    "\n",
    "I. Pré-processing\n",
    "\n",
    "\n",
    "II. Labelisation \"à la main\"\n",
    "   1. labelisation binaire\n",
    "   2. préférences\n",
    "   \n",
    "   \n",
    "III. Application du modèle\n",
    "   1. modèle binaire\n",
    "   2. modèle avec préférences\n",
    "    "
   ]
  },
  {
   "cell_type": "markdown",
   "id": "vietnamese-passport",
   "metadata": {},
   "source": [
    "## I.Pré-traitement\n",
    "Dans cette partie nous allons pre-traiter nos données.\n",
    "\n",
    "\n",
    "Nos données sont à l'état brut comme ceci: "
   ]
  },
  {
   "cell_type": "code",
   "execution_count": 7,
   "id": "occupied-jurisdiction",
   "metadata": {
    "scrolled": true
   },
   "outputs": [
    {
     "data": {
      "text/html": [
       "<div>\n",
       "<style scoped>\n",
       "    .dataframe tbody tr th:only-of-type {\n",
       "        vertical-align: middle;\n",
       "    }\n",
       "\n",
       "    .dataframe tbody tr th {\n",
       "        vertical-align: top;\n",
       "    }\n",
       "\n",
       "    .dataframe thead th {\n",
       "        text-align: right;\n",
       "    }\n",
       "</style>\n",
       "<table border=\"1\" class=\"dataframe\">\n",
       "  <thead>\n",
       "    <tr style=\"text-align: right;\">\n",
       "      <th></th>\n",
       "      <th>Rank</th>\n",
       "      <th>Name</th>\n",
       "      <th>Platform</th>\n",
       "      <th>Year</th>\n",
       "      <th>Genre</th>\n",
       "      <th>Publisher</th>\n",
       "      <th>NA_Sales</th>\n",
       "      <th>EU_Sales</th>\n",
       "      <th>JP_Sales</th>\n",
       "      <th>Other_Sales</th>\n",
       "      <th>Global_Sales</th>\n",
       "    </tr>\n",
       "  </thead>\n",
       "  <tbody>\n",
       "    <tr>\n",
       "      <th>0</th>\n",
       "      <td>259</td>\n",
       "      <td>Asteroids</td>\n",
       "      <td>2600</td>\n",
       "      <td>1980</td>\n",
       "      <td>Shooter</td>\n",
       "      <td>Atari</td>\n",
       "      <td>4.00</td>\n",
       "      <td>0.26</td>\n",
       "      <td>0.00</td>\n",
       "      <td>0.05</td>\n",
       "      <td>4.31</td>\n",
       "    </tr>\n",
       "    <tr>\n",
       "      <th>1</th>\n",
       "      <td>545</td>\n",
       "      <td>Missile Command</td>\n",
       "      <td>2600</td>\n",
       "      <td>1980</td>\n",
       "      <td>Shooter</td>\n",
       "      <td>Atari</td>\n",
       "      <td>2.56</td>\n",
       "      <td>0.17</td>\n",
       "      <td>0.00</td>\n",
       "      <td>0.03</td>\n",
       "      <td>2.76</td>\n",
       "    </tr>\n",
       "    <tr>\n",
       "      <th>2</th>\n",
       "      <td>1768</td>\n",
       "      <td>Kaboom!</td>\n",
       "      <td>2600</td>\n",
       "      <td>1980</td>\n",
       "      <td>Misc</td>\n",
       "      <td>Activision</td>\n",
       "      <td>1.07</td>\n",
       "      <td>0.07</td>\n",
       "      <td>0.00</td>\n",
       "      <td>0.01</td>\n",
       "      <td>1.15</td>\n",
       "    </tr>\n",
       "    <tr>\n",
       "      <th>3</th>\n",
       "      <td>1971</td>\n",
       "      <td>Defender</td>\n",
       "      <td>2600</td>\n",
       "      <td>1980</td>\n",
       "      <td>Misc</td>\n",
       "      <td>Atari</td>\n",
       "      <td>0.99</td>\n",
       "      <td>0.05</td>\n",
       "      <td>0.00</td>\n",
       "      <td>0.01</td>\n",
       "      <td>1.05</td>\n",
       "    </tr>\n",
       "    <tr>\n",
       "      <th>4</th>\n",
       "      <td>2671</td>\n",
       "      <td>Boxing</td>\n",
       "      <td>2600</td>\n",
       "      <td>1980</td>\n",
       "      <td>Fighting</td>\n",
       "      <td>Activision</td>\n",
       "      <td>0.72</td>\n",
       "      <td>0.04</td>\n",
       "      <td>0.00</td>\n",
       "      <td>0.01</td>\n",
       "      <td>0.77</td>\n",
       "    </tr>\n",
       "    <tr>\n",
       "      <th>...</th>\n",
       "      <td>...</td>\n",
       "      <td>...</td>\n",
       "      <td>...</td>\n",
       "      <td>...</td>\n",
       "      <td>...</td>\n",
       "      <td>...</td>\n",
       "      <td>...</td>\n",
       "      <td>...</td>\n",
       "      <td>...</td>\n",
       "      <td>...</td>\n",
       "      <td>...</td>\n",
       "    </tr>\n",
       "    <tr>\n",
       "      <th>16319</th>\n",
       "      <td>16565</td>\n",
       "      <td>Mighty No. 9</td>\n",
       "      <td>XOne</td>\n",
       "      <td>2016</td>\n",
       "      <td>Platform</td>\n",
       "      <td>Deep Silver</td>\n",
       "      <td>0.01</td>\n",
       "      <td>0.00</td>\n",
       "      <td>0.00</td>\n",
       "      <td>0.00</td>\n",
       "      <td>0.01</td>\n",
       "    </tr>\n",
       "    <tr>\n",
       "      <th>16320</th>\n",
       "      <td>16572</td>\n",
       "      <td>Resident Evil 4 HD</td>\n",
       "      <td>XOne</td>\n",
       "      <td>2016</td>\n",
       "      <td>Shooter</td>\n",
       "      <td>Capcom</td>\n",
       "      <td>0.01</td>\n",
       "      <td>0.00</td>\n",
       "      <td>0.00</td>\n",
       "      <td>0.00</td>\n",
       "      <td>0.01</td>\n",
       "    </tr>\n",
       "    <tr>\n",
       "      <th>16321</th>\n",
       "      <td>16573</td>\n",
       "      <td>Farming 2017 - The Simulation</td>\n",
       "      <td>PS4</td>\n",
       "      <td>2016</td>\n",
       "      <td>Simulation</td>\n",
       "      <td>UIG Entertainment</td>\n",
       "      <td>0.00</td>\n",
       "      <td>0.01</td>\n",
       "      <td>0.00</td>\n",
       "      <td>0.00</td>\n",
       "      <td>0.01</td>\n",
       "    </tr>\n",
       "    <tr>\n",
       "      <th>16322</th>\n",
       "      <td>16579</td>\n",
       "      <td>Rugby Challenge 3</td>\n",
       "      <td>XOne</td>\n",
       "      <td>2016</td>\n",
       "      <td>Sports</td>\n",
       "      <td>Alternative Software</td>\n",
       "      <td>0.00</td>\n",
       "      <td>0.01</td>\n",
       "      <td>0.00</td>\n",
       "      <td>0.00</td>\n",
       "      <td>0.01</td>\n",
       "    </tr>\n",
       "    <tr>\n",
       "      <th>16323</th>\n",
       "      <td>16592</td>\n",
       "      <td>Chou Ezaru wa Akai Hana: Koi wa Tsuki ni Shiru...</td>\n",
       "      <td>PSV</td>\n",
       "      <td>2016</td>\n",
       "      <td>Action</td>\n",
       "      <td>dramatic create</td>\n",
       "      <td>0.00</td>\n",
       "      <td>0.00</td>\n",
       "      <td>0.01</td>\n",
       "      <td>0.00</td>\n",
       "      <td>0.01</td>\n",
       "    </tr>\n",
       "  </tbody>\n",
       "</table>\n",
       "<p>16324 rows × 11 columns</p>\n",
       "</div>"
      ],
      "text/plain": [
       "        Rank                                               Name Platform  \\\n",
       "0        259                                          Asteroids     2600   \n",
       "1        545                                    Missile Command     2600   \n",
       "2       1768                                            Kaboom!     2600   \n",
       "3       1971                                           Defender     2600   \n",
       "4       2671                                             Boxing     2600   \n",
       "...      ...                                                ...      ...   \n",
       "16319  16565                                       Mighty No. 9     XOne   \n",
       "16320  16572                                 Resident Evil 4 HD     XOne   \n",
       "16321  16573                      Farming 2017 - The Simulation      PS4   \n",
       "16322  16579                                  Rugby Challenge 3     XOne   \n",
       "16323  16592  Chou Ezaru wa Akai Hana: Koi wa Tsuki ni Shiru...      PSV   \n",
       "\n",
       "       Year       Genre             Publisher  NA_Sales  EU_Sales  JP_Sales  \\\n",
       "0      1980     Shooter                 Atari      4.00      0.26      0.00   \n",
       "1      1980     Shooter                 Atari      2.56      0.17      0.00   \n",
       "2      1980        Misc            Activision      1.07      0.07      0.00   \n",
       "3      1980        Misc                 Atari      0.99      0.05      0.00   \n",
       "4      1980    Fighting            Activision      0.72      0.04      0.00   \n",
       "...     ...         ...                   ...       ...       ...       ...   \n",
       "16319  2016    Platform           Deep Silver      0.01      0.00      0.00   \n",
       "16320  2016     Shooter                Capcom      0.01      0.00      0.00   \n",
       "16321  2016  Simulation     UIG Entertainment      0.00      0.01      0.00   \n",
       "16322  2016      Sports  Alternative Software      0.00      0.01      0.00   \n",
       "16323  2016      Action       dramatic create      0.00      0.00      0.01   \n",
       "\n",
       "       Other_Sales  Global_Sales  \n",
       "0             0.05          4.31  \n",
       "1             0.03          2.76  \n",
       "2             0.01          1.15  \n",
       "3             0.01          1.05  \n",
       "4             0.01          0.77  \n",
       "...            ...           ...  \n",
       "16319         0.00          0.01  \n",
       "16320         0.00          0.01  \n",
       "16321         0.00          0.01  \n",
       "16322         0.00          0.01  \n",
       "16323         0.00          0.01  \n",
       "\n",
       "[16324 rows x 11 columns]"
      ]
     },
     "execution_count": 7,
     "metadata": {},
     "output_type": "execute_result"
    }
   ],
   "source": [
    "readers"
   ]
  },
  {
   "cell_type": "markdown",
   "id": "judicial-citizenship",
   "metadata": {},
   "source": [
    "Nous mélangeons ensuite notre base de données initiale au ca où elles sont triées."
   ]
  },
  {
   "cell_type": "code",
   "execution_count": 8,
   "id": "empirical-taylor",
   "metadata": {},
   "outputs": [],
   "source": [
    "readers = sklearn.utils.shuffle(readers)"
   ]
  },
  {
   "cell_type": "markdown",
   "id": "magnetic-negative",
   "metadata": {},
   "source": [
    "On regarde ensuite les informations sur notre base de données pour voir si elle est complète."
   ]
  },
  {
   "cell_type": "code",
   "execution_count": 9,
   "id": "higher-deadline",
   "metadata": {},
   "outputs": [
    {
     "name": "stdout",
     "output_type": "stream",
     "text": [
      "<class 'pandas.core.frame.DataFrame'>\n",
      "Int64Index: 16324 entries, 1240 to 7579\n",
      "Data columns (total 11 columns):\n",
      " #   Column        Non-Null Count  Dtype  \n",
      "---  ------        --------------  -----  \n",
      " 0   Rank          16324 non-null  int64  \n",
      " 1   Name          16324 non-null  object \n",
      " 2   Platform      16324 non-null  object \n",
      " 3   Year          16324 non-null  int64  \n",
      " 4   Genre         16324 non-null  object \n",
      " 5   Publisher     16288 non-null  object \n",
      " 6   NA_Sales      16324 non-null  float64\n",
      " 7   EU_Sales      16324 non-null  float64\n",
      " 8   JP_Sales      16324 non-null  float64\n",
      " 9   Other_Sales   16324 non-null  float64\n",
      " 10  Global_Sales  16324 non-null  float64\n",
      "dtypes: float64(5), int64(2), object(4)\n",
      "memory usage: 1.5+ MB\n"
     ]
    }
   ],
   "source": [
    "readers.info()"
   ]
  },
  {
   "cell_type": "markdown",
   "id": "employed-customer",
   "metadata": {},
   "source": [
    "Les données de publisher cont incomplètes, il nous en manque peu et notre base de données est assez grande pour qu'on puisse les retirer."
   ]
  },
  {
   "cell_type": "code",
   "execution_count": 10,
   "id": "shaped-tiger",
   "metadata": {},
   "outputs": [],
   "source": [
    "readers=readers.dropna(subset = [\"Publisher\"])"
   ]
  },
  {
   "cell_type": "markdown",
   "id": "entitled-alcohol",
   "metadata": {},
   "source": [
    "Nous allons vérifier que nos informations sur les genre sont équilibrées."
   ]
  },
  {
   "cell_type": "code",
   "execution_count": 11,
   "id": "manual-values",
   "metadata": {},
   "outputs": [
    {
     "data": {
      "text/plain": [
       "Action          3250\n",
       "Sports          2304\n",
       "Misc            1686\n",
       "Role-Playing    1468\n",
       "Shooter         1282\n",
       "Adventure       1274\n",
       "Racing          1225\n",
       "Platform         875\n",
       "Simulation       848\n",
       "Fighting         836\n",
       "Strategy         670\n",
       "Puzzle           570\n",
       "Name: Genre, dtype: int64"
      ]
     },
     "execution_count": 11,
     "metadata": {},
     "output_type": "execute_result"
    }
   ],
   "source": [
    "readers.Genre.value_counts()"
   ]
  },
  {
   "cell_type": "markdown",
   "id": "trained-liberal",
   "metadata": {},
   "source": [
    "Les données sur le genre sont plutôt équilibrées, nous allons à présent regarder les informations que nous avons sur la feature \"platform\" pour voir si elle est équilibrée."
   ]
  },
  {
   "cell_type": "code",
   "execution_count": 12,
   "id": "republican-marble",
   "metadata": {},
   "outputs": [
    {
     "data": {
      "text/plain": [
       "DS      2131\n",
       "PS2     2127\n",
       "PS3     1304\n",
       "Wii     1290\n",
       "X360    1234\n",
       "PSP     1197\n",
       "PS      1189\n",
       "PC       938\n",
       "XB       803\n",
       "GBA      786\n",
       "GC       542\n",
       "3DS      499\n",
       "PSV      408\n",
       "PS4      335\n",
       "N64      316\n",
       "SNES     239\n",
       "XOne     213\n",
       "SAT      173\n",
       "WiiU     143\n",
       "2600     116\n",
       "NES       98\n",
       "GB        97\n",
       "DC        52\n",
       "GEN       27\n",
       "NG        12\n",
       "SCD        6\n",
       "WS         6\n",
       "3DO        3\n",
       "TG16       2\n",
       "PCFX       1\n",
       "GG         1\n",
       "Name: Platform, dtype: int64"
      ]
     },
     "execution_count": 12,
     "metadata": {},
     "output_type": "execute_result"
    }
   ],
   "source": [
    "readers.Platform.value_counts()"
   ]
  },
  {
   "cell_type": "markdown",
   "id": "eligible-senate",
   "metadata": {},
   "source": [
    "Nous remarquons qu'il y a des plateformes avec peu de jeux. Nous allons donc supprimer toutes les consoles qui ont moins de 100 jeux."
   ]
  },
  {
   "cell_type": "code",
   "execution_count": 13,
   "id": "played-isolation",
   "metadata": {},
   "outputs": [],
   "source": [
    "indesirable = ['SAT','2600','NES','GB', 'DC', 'GEN', 'NG', 'SCD', 'WS', '3DO', 'TG16', 'GG', 'PCFX','PSV']\n",
    "for elt in indesirable:\n",
    "    readers = readers.drop(readers[readers.Platform == elt].index)"
   ]
  },
  {
   "cell_type": "code",
   "execution_count": 14,
   "id": "alive-armor",
   "metadata": {},
   "outputs": [
    {
     "data": {
      "text/plain": [
       "DS      2131\n",
       "PS2     2127\n",
       "PS3     1304\n",
       "Wii     1290\n",
       "X360    1234\n",
       "PSP     1197\n",
       "PS      1189\n",
       "PC       938\n",
       "XB       803\n",
       "GBA      786\n",
       "GC       542\n",
       "3DS      499\n",
       "PS4      335\n",
       "N64      316\n",
       "SNES     239\n",
       "XOne     213\n",
       "WiiU     143\n",
       "Name: Platform, dtype: int64"
      ]
     },
     "execution_count": 14,
     "metadata": {},
     "output_type": "execute_result"
    }
   ],
   "source": [
    "readers.Platform.value_counts()"
   ]
  },
  {
   "cell_type": "markdown",
   "id": "stable-karaoke",
   "metadata": {},
   "source": [
    "Nous allons ensuite regrouper les plateformes par marque plutôt que par console."
   ]
  },
  {
   "cell_type": "code",
   "execution_count": 15,
   "id": "hungry-allocation",
   "metadata": {},
   "outputs": [],
   "source": [
    "readers['Platform'] = readers['Platform'].replace(['DS','Wii','GBA','GC','3DS','N64','SNES','WiiU'], 'Nintendo')\n",
    "readers['Platform'] = readers['Platform'].replace(['PS2','PS3','PSP','PS','PS4'], 'Sony')\n",
    "readers['Platform'] = readers['Platform'].replace(['X360','XB','XOne'], 'Microsoft')"
   ]
  },
  {
   "cell_type": "code",
   "execution_count": 16,
   "id": "funky-chess",
   "metadata": {},
   "outputs": [
    {
     "data": {
      "text/plain": [
       "Sony         6152\n",
       "Nintendo     5946\n",
       "Microsoft    2250\n",
       "PC            938\n",
       "Name: Platform, dtype: int64"
      ]
     },
     "execution_count": 16,
     "metadata": {},
     "output_type": "execute_result"
    }
   ],
   "source": [
    "readers.Platform.value_counts()"
   ]
  },
  {
   "cell_type": "markdown",
   "id": "whole-brunei",
   "metadata": {},
   "source": [
    "On va laisser les colonnes \"rank\" et \"other_sales\" car elles ne sont pas pertinentes pour notre analyse."
   ]
  },
  {
   "cell_type": "code",
   "execution_count": 17,
   "id": "hawaiian-suffering",
   "metadata": {},
   "outputs": [],
   "source": [
    "readers = readers.drop(columns=[\"Rank\",\"Other_Sales\"])"
   ]
  },
  {
   "cell_type": "code",
   "execution_count": 18,
   "id": "included-extension",
   "metadata": {},
   "outputs": [
    {
     "data": {
      "text/html": [
       "<div>\n",
       "<style scoped>\n",
       "    .dataframe tbody tr th:only-of-type {\n",
       "        vertical-align: middle;\n",
       "    }\n",
       "\n",
       "    .dataframe tbody tr th {\n",
       "        vertical-align: top;\n",
       "    }\n",
       "\n",
       "    .dataframe thead th {\n",
       "        text-align: right;\n",
       "    }\n",
       "</style>\n",
       "<table border=\"1\" class=\"dataframe\">\n",
       "  <thead>\n",
       "    <tr style=\"text-align: right;\">\n",
       "      <th></th>\n",
       "      <th>Name</th>\n",
       "      <th>Platform</th>\n",
       "      <th>Year</th>\n",
       "      <th>Genre</th>\n",
       "      <th>Publisher</th>\n",
       "      <th>NA_Sales</th>\n",
       "      <th>EU_Sales</th>\n",
       "      <th>JP_Sales</th>\n",
       "      <th>Global_Sales</th>\n",
       "    </tr>\n",
       "  </thead>\n",
       "  <tbody>\n",
       "    <tr>\n",
       "      <th>1240</th>\n",
       "      <td>Syndicate Wars</td>\n",
       "      <td>Sony</td>\n",
       "      <td>1997</td>\n",
       "      <td>Strategy</td>\n",
       "      <td>Electronic Arts</td>\n",
       "      <td>0.02</td>\n",
       "      <td>0.01</td>\n",
       "      <td>0.00</td>\n",
       "      <td>0.04</td>\n",
       "    </tr>\n",
       "    <tr>\n",
       "      <th>4400</th>\n",
       "      <td>Dinotopia: The Sunstone Odyssey</td>\n",
       "      <td>Microsoft</td>\n",
       "      <td>2003</td>\n",
       "      <td>Action</td>\n",
       "      <td>TDK Mediactive</td>\n",
       "      <td>0.01</td>\n",
       "      <td>0.00</td>\n",
       "      <td>0.00</td>\n",
       "      <td>0.01</td>\n",
       "    </tr>\n",
       "    <tr>\n",
       "      <th>9918</th>\n",
       "      <td>Puzzler World</td>\n",
       "      <td>Nintendo</td>\n",
       "      <td>2009</td>\n",
       "      <td>Puzzle</td>\n",
       "      <td>Ubisoft</td>\n",
       "      <td>0.41</td>\n",
       "      <td>0.30</td>\n",
       "      <td>0.00</td>\n",
       "      <td>0.78</td>\n",
       "    </tr>\n",
       "    <tr>\n",
       "      <th>11915</th>\n",
       "      <td>Zangeki no Reginleiv</td>\n",
       "      <td>Nintendo</td>\n",
       "      <td>2010</td>\n",
       "      <td>Action</td>\n",
       "      <td>Nintendo</td>\n",
       "      <td>0.00</td>\n",
       "      <td>0.00</td>\n",
       "      <td>0.11</td>\n",
       "      <td>0.11</td>\n",
       "    </tr>\n",
       "    <tr>\n",
       "      <th>6143</th>\n",
       "      <td>Super Monkey Ball: Banana Blitz</td>\n",
       "      <td>Nintendo</td>\n",
       "      <td>2006</td>\n",
       "      <td>Misc</td>\n",
       "      <td>Sega</td>\n",
       "      <td>1.07</td>\n",
       "      <td>0.92</td>\n",
       "      <td>0.04</td>\n",
       "      <td>2.27</td>\n",
       "    </tr>\n",
       "    <tr>\n",
       "      <th>...</th>\n",
       "      <td>...</td>\n",
       "      <td>...</td>\n",
       "      <td>...</td>\n",
       "      <td>...</td>\n",
       "      <td>...</td>\n",
       "      <td>...</td>\n",
       "      <td>...</td>\n",
       "      <td>...</td>\n",
       "      <td>...</td>\n",
       "    </tr>\n",
       "    <tr>\n",
       "      <th>3481</th>\n",
       "      <td>Bust-A-Bloc</td>\n",
       "      <td>Sony</td>\n",
       "      <td>2002</td>\n",
       "      <td>Puzzle</td>\n",
       "      <td>Midas Interactive Entertainment</td>\n",
       "      <td>0.00</td>\n",
       "      <td>0.00</td>\n",
       "      <td>0.05</td>\n",
       "      <td>0.05</td>\n",
       "    </tr>\n",
       "    <tr>\n",
       "      <th>11728</th>\n",
       "      <td>Mathews Bowhunting</td>\n",
       "      <td>Nintendo</td>\n",
       "      <td>2010</td>\n",
       "      <td>Sports</td>\n",
       "      <td>Zoo Games</td>\n",
       "      <td>0.18</td>\n",
       "      <td>0.00</td>\n",
       "      <td>0.00</td>\n",
       "      <td>0.19</td>\n",
       "    </tr>\n",
       "    <tr>\n",
       "      <th>12604</th>\n",
       "      <td>Need for Speed: Shift 2 Unleashed</td>\n",
       "      <td>Sony</td>\n",
       "      <td>2011</td>\n",
       "      <td>Racing</td>\n",
       "      <td>Electronic Arts</td>\n",
       "      <td>0.20</td>\n",
       "      <td>0.36</td>\n",
       "      <td>0.00</td>\n",
       "      <td>0.69</td>\n",
       "    </tr>\n",
       "    <tr>\n",
       "      <th>2445</th>\n",
       "      <td>NASCAR Heat 2002</td>\n",
       "      <td>Sony</td>\n",
       "      <td>2001</td>\n",
       "      <td>Racing</td>\n",
       "      <td>Infogrames</td>\n",
       "      <td>0.29</td>\n",
       "      <td>0.23</td>\n",
       "      <td>0.00</td>\n",
       "      <td>0.60</td>\n",
       "    </tr>\n",
       "    <tr>\n",
       "      <th>7579</th>\n",
       "      <td>Cabela's Trophy Bucks</td>\n",
       "      <td>Sony</td>\n",
       "      <td>2007</td>\n",
       "      <td>Sports</td>\n",
       "      <td>Activision Value</td>\n",
       "      <td>0.13</td>\n",
       "      <td>0.11</td>\n",
       "      <td>0.00</td>\n",
       "      <td>0.27</td>\n",
       "    </tr>\n",
       "  </tbody>\n",
       "</table>\n",
       "<p>15286 rows × 9 columns</p>\n",
       "</div>"
      ],
      "text/plain": [
       "                                    Name   Platform  Year     Genre  \\\n",
       "1240                      Syndicate Wars       Sony  1997  Strategy   \n",
       "4400     Dinotopia: The Sunstone Odyssey  Microsoft  2003    Action   \n",
       "9918                       Puzzler World   Nintendo  2009    Puzzle   \n",
       "11915               Zangeki no Reginleiv   Nintendo  2010    Action   \n",
       "6143     Super Monkey Ball: Banana Blitz   Nintendo  2006      Misc   \n",
       "...                                  ...        ...   ...       ...   \n",
       "3481                         Bust-A-Bloc       Sony  2002    Puzzle   \n",
       "11728                 Mathews Bowhunting   Nintendo  2010    Sports   \n",
       "12604  Need for Speed: Shift 2 Unleashed       Sony  2011    Racing   \n",
       "2445                    NASCAR Heat 2002       Sony  2001    Racing   \n",
       "7579               Cabela's Trophy Bucks       Sony  2007    Sports   \n",
       "\n",
       "                             Publisher  NA_Sales  EU_Sales  JP_Sales  \\\n",
       "1240                   Electronic Arts      0.02      0.01      0.00   \n",
       "4400                    TDK Mediactive      0.01      0.00      0.00   \n",
       "9918                           Ubisoft      0.41      0.30      0.00   \n",
       "11915                         Nintendo      0.00      0.00      0.11   \n",
       "6143                              Sega      1.07      0.92      0.04   \n",
       "...                                ...       ...       ...       ...   \n",
       "3481   Midas Interactive Entertainment      0.00      0.00      0.05   \n",
       "11728                        Zoo Games      0.18      0.00      0.00   \n",
       "12604                  Electronic Arts      0.20      0.36      0.00   \n",
       "2445                        Infogrames      0.29      0.23      0.00   \n",
       "7579                  Activision Value      0.13      0.11      0.00   \n",
       "\n",
       "       Global_Sales  \n",
       "1240           0.04  \n",
       "4400           0.01  \n",
       "9918           0.78  \n",
       "11915          0.11  \n",
       "6143           2.27  \n",
       "...             ...  \n",
       "3481           0.05  \n",
       "11728          0.19  \n",
       "12604          0.69  \n",
       "2445           0.60  \n",
       "7579           0.27  \n",
       "\n",
       "[15286 rows x 9 columns]"
      ]
     },
     "execution_count": 18,
     "metadata": {},
     "output_type": "execute_result"
    }
   ],
   "source": [
    "readers"
   ]
  },
  {
   "cell_type": "markdown",
   "id": "particular-mechanics",
   "metadata": {},
   "source": [
    "On va afficher les ventes et chercher d'éventuelles valeurs aberrantes"
   ]
  },
  {
   "cell_type": "code",
   "execution_count": 19,
   "id": "upset-poultry",
   "metadata": {},
   "outputs": [
    {
     "data": {
      "text/plain": [
       "[<matplotlib.lines.Line2D at 0x20fa24af3d0>]"
      ]
     },
     "execution_count": 19,
     "metadata": {},
     "output_type": "execute_result"
    },
    {
     "data": {
      "image/png": "[encoded data removed]",
      "text/plain": [
       "<Figure size 432x288 with 1 Axes>"
      ]
     },
     "metadata": {
      "needs_background": "light"
     },
     "output_type": "display_data"
    }
   ],
   "source": [
    "abs = np.linspace(0, readers.shape[0], readers.shape[0])\n",
    "y = readers['Global_Sales'].values.tolist()\n",
    "\n",
    "plt.plot(abs, y)"
   ]
  },
  {
   "cell_type": "markdown",
   "id": "intimate-blake",
   "metadata": {},
   "source": [
    "On se rend compte qu'il y a un outlier on va chercher et supprimer la donnée."
   ]
  },
  {
   "cell_type": "code",
   "execution_count": 20,
   "id": "liquid-activity",
   "metadata": {},
   "outputs": [],
   "source": [
    "maxsales = readers.max()['Global_Sales']\n",
    "readers=readers.drop(readers[readers.Global_Sales==maxsales].index)"
   ]
  },
  {
   "cell_type": "code",
   "execution_count": 21,
   "id": "toxic-sugar",
   "metadata": {},
   "outputs": [
    {
     "data": {
      "text/plain": [
       "[<matplotlib.lines.Line2D at 0x20fa04155b0>]"
      ]
     },
     "execution_count": 21,
     "metadata": {},
     "output_type": "execute_result"
    },
    {
     "data": {
      "image/png": "[encoded data removed]",
      "text/plain": [
       "<Figure size 432x288 with 1 Axes>"
      ]
     },
     "metadata": {
      "needs_background": "light"
     },
     "output_type": "display_data"
    }
   ],
   "source": [
    "abs = np.linspace(0, readers.shape[0], readers.shape[0])\n",
    "y = readers['Global_Sales'].values.tolist()\n",
    "\n",
    "plt.plot(abs, y)"
   ]
  },
  {
   "cell_type": "markdown",
   "id": "directed-employer",
   "metadata": {},
   "source": [
    "La valeur aberrante a bien été supprimée, nous allons regarder les ventes en Amérique du Nord, en Europe et au Japon"
   ]
  },
  {
   "cell_type": "code",
   "execution_count": 22,
   "id": "dirty-laptop",
   "metadata": {},
   "outputs": [
    {
     "data": {
      "text/plain": [
       "[<matplotlib.lines.Line2D at 0x20fa25830d0>]"
      ]
     },
     "execution_count": 22,
     "metadata": {},
     "output_type": "execute_result"
    },
    {
     "data": {
      "image/png": "[encoded data removed]",
      "text/plain": [
       "<Figure size 432x288 with 1 Axes>"
      ]
     },
     "metadata": {
      "needs_background": "light"
     },
     "output_type": "display_data"
    }
   ],
   "source": [
    "abs = np.linspace(0, readers.shape[0], readers.shape[0])\n",
    "y = readers['NA_Sales'].values.tolist()\n",
    "\n",
    "plt.plot(abs, y)"
   ]
  },
  {
   "cell_type": "code",
   "execution_count": 23,
   "id": "uniform-history",
   "metadata": {},
   "outputs": [
    {
     "data": {
      "text/plain": [
       "[<matplotlib.lines.Line2D at 0x20fa360a940>]"
      ]
     },
     "execution_count": 23,
     "metadata": {},
     "output_type": "execute_result"
    },
    {
     "data": {
      "image/png": "[encoded data removed]",
      "text/plain": [
       "<Figure size 432x288 with 1 Axes>"
      ]
     },
     "metadata": {
      "needs_background": "light"
     },
     "output_type": "display_data"
    }
   ],
   "source": [
    "abs = np.linspace(0, readers.shape[0], readers.shape[0])\n",
    "y = readers['EU_Sales'].values.tolist()\n",
    "\n",
    "plt.plot(abs, y)"
   ]
  },
  {
   "cell_type": "code",
   "execution_count": 24,
   "id": "flush-sullivan",
   "metadata": {},
   "outputs": [
    {
     "data": {
      "text/plain": [
       "[<matplotlib.lines.Line2D at 0x20fa25c1640>]"
      ]
     },
     "execution_count": 24,
     "metadata": {},
     "output_type": "execute_result"
    },
    {
     "data": {
      "image/png": "[encoded data removed]",
      "text/plain": [
       "<Figure size 432x288 with 1 Axes>"
      ]
     },
     "metadata": {
      "needs_background": "light"
     },
     "output_type": "display_data"
    }
   ],
   "source": [
    "abs = np.linspace(0, readers.shape[0], readers.shape[0])\n",
    "y = readers['JP_Sales'].values.tolist()\n",
    "\n",
    "plt.plot(abs, y)"
   ]
  },
  {
   "cell_type": "markdown",
   "id": "internal-terminal",
   "metadata": {},
   "source": [
    "Les ventes au Japon, Europe et Amérique du Nord ont l'air cohérentes, nous n'avons pas de valeurs aberrantes à supprimer."
   ]
  },
  {
   "cell_type": "markdown",
   "id": "signed-kuwait",
   "metadata": {},
   "source": [
    "Nous ajoutons une colonne \"interest\" qui montrera l'intérêt ou non de notre utilisateur sur ce jeu vidéo. Nous initialisions cette colonne à \"None\""
   ]
  },
  {
   "cell_type": "code",
   "execution_count": 25,
   "id": "blessed-young",
   "metadata": {},
   "outputs": [],
   "source": [
    "readers[\"Interest\"] = None"
   ]
  },
  {
   "cell_type": "markdown",
   "id": "explicit-facing",
   "metadata": {},
   "source": [
    "Nous allons ensuite encoder notre base de données. "
   ]
  },
  {
   "cell_type": "code",
   "execution_count": 26,
   "id": "variable-netherlands",
   "metadata": {
    "scrolled": true
   },
   "outputs": [],
   "source": [
    "cols = [\"Platform\", \"Genre\",\"Publisher\",\"Name\"]\n",
    "enc = preprocessing.OrdinalEncoder()\n",
    "for col in cols:\n",
    "    readers[col] = enc.fit_transform(readers[[col]])\n",
    "    \n",
    "\n",
    "#L'encodage donne des florat nous allons la transformer en int pour éviter des erreurs lors de l'application des modèles.\n",
    "cols=['Platform','Genre','Publisher','Name']                 \n",
    "\n",
    "for col in cols:\n",
    "    readers[cols]=readers[cols].astype(int)\n",
    "    "
   ]
  },
  {
   "cell_type": "markdown",
   "id": "allied-listing",
   "metadata": {},
   "source": [
    "Nous avons fini le pre-processing. Nous allons ensuite réfléchir à la manière dont nous allons labéliser \"à la main\" notre base de données."
   ]
  },
  {
   "cell_type": "markdown",
   "id": "packed-peter",
   "metadata": {},
   "source": [
    "## I. Labélisation \"à  la main\""
   ]
  },
  {
   "cell_type": "markdown",
   "id": "crucial-encoding",
   "metadata": {},
   "source": [
    "Nous allons créer un bot dont le but sera de simuler un acheteur afin de labéliser notre base de données. Ce bot représentera donc un acheteur qui possède une console et aime deux genres de jeux vidéos. \n",
    "\n",
    "On va donc choisir aléatoirement une console et un genre. \n",
    "\n",
    "Pour cela, nous allons regarder le nombre de genres et en choisir 2 au hasard et de la même manière choisir une console au hasard.\n",
    "\n",
    "\n",
    "On choisit aussi la région de l'acheteur :\n",
    "\n",
    "\n",
    "0. North America\n",
    "1. Europe\n",
    "2. Japon"
   ]
  },
  {
   "cell_type": "markdown",
   "id": "opposed-sight",
   "metadata": {},
   "source": [
    "C'est une simulation d'un acheteur que nous allons garder dans l'ensemble de la première partie du projet."
   ]
  },
  {
   "cell_type": "code",
   "execution_count": 27,
   "id": "adjusted-control",
   "metadata": {},
   "outputs": [],
   "source": [
    "nbGenre=len(readers.Genre.value_counts())                            #Nombre de genre différents\n",
    "nbConsole=len(readers.Platform.value_counts())                       #Nombre de plateformes différentes"
   ]
  },
  {
   "cell_type": "code",
   "execution_count": 28,
   "id": "empirical-surveillance",
   "metadata": {},
   "outputs": [
    {
     "name": "stdout",
     "output_type": "stream",
     "text": [
      "Notre bot aime les genres 11 et 2 possède la plateforme 1 et habite dans la région 1\n"
     ]
    }
   ],
   "source": [
    "def select(nbGenre,nbConsole):\n",
    "    genreAleat1=random.randint(0,nbGenre)                      #On choisit deux genres aléatoirement\n",
    "    genreAleat2=random.randint(0,nbGenre)\n",
    "    consoleAleat=random.randint(0,nbConsole)                   #On choisit une console aléatoirement\n",
    "    \n",
    "    \n",
    "    while genreAleat2==genreAleat1:                            #On fait une boucle jusqu'à ce que les deux genres soient différents\n",
    "         genreAleat2=random.randint(0,nbGenre)  \n",
    "            \n",
    "    regionaleat=random.randint(0,2)                            #On choisit une région au hasard entre l'Amérique du Nord (NA), Europe et Japon\n",
    "    \n",
    "    return(genreAleat1,genreAleat2,consoleAleat,regionaleat)\n",
    "\n",
    "\n",
    "bot=select(nbGenre,nbConsole)\n",
    "\n",
    "print(\"Notre bot aime les genres\",bot[0],\"et\",bot[1],\"possède la plateforme\",bot[3], \"et habite dans la région\",bot[3])\n",
    "\n"
   ]
  },
  {
   "cell_type": "markdown",
   "id": "silent-patrol",
   "metadata": {},
   "source": [
    "### II. 1) Méthode binaire"
   ]
  },
  {
   "cell_type": "markdown",
   "id": "casual-calculation",
   "metadata": {},
   "source": [
    "Dans cette première méthode, on suppose que l'acheteur aime les jeux lorsqu'il correspond au couple (console, genre1) ou (console, genre2).\n",
    "\n",
    "Cependant, nous allons essayer de se rapprocher de la réalité, c'est-à-dire que parfois nous faisons des choix irrationnels, c'est pour cela que nous allons labeliser notre base de données à 1 (intéressé) seulement 90% du temps. \n",
    "\n",
    "On ne tiendra pas compte de la région de l'acheteur dans cette première partie."
   ]
  },
  {
   "cell_type": "code",
   "execution_count": 29,
   "id": "biological-survival",
   "metadata": {
    "scrolled": false
   },
   "outputs": [],
   "source": [
    "##On itère sur chaque ligne de la base de données\n",
    "# Le for peut être un peu long car on labelise \"à la main\" notre base de données\n",
    "\n",
    "def labelisation():\n",
    "    proba=random.randint(1,10)\n",
    "\n",
    "    for elt in readers.iterrows():                                   \n",
    "    \n",
    "    ##On regarde si le jeu correspond au couple de préférence (console, genre1) ou (console, genre2)\n",
    "    \n",
    "        if (((readers.loc[elt[0]].Platform==bot[2]) & (readers.loc[elt[0]].Genre==bot[0])) | ((readers.loc[elt[0]].Platform==bot[2]) & ( readers.loc[elt[0]].Genre==bot[1]))):\n",
    "            if proba>1:\n",
    "                readers.loc[elt[0], 'Interest'] = 1                   ##Si oui on passe le jeu à 1 dans Interest\n",
    "            else :\n",
    "                readers.loc[elt[0], 'Interest'] = 0\n",
    "        else :\n",
    "            readers.loc[elt[0], 'Interest'] = 0                 ##Si non on passe le jeu à 0 dans Interest\n",
    "        \n",
    "        \n",
    "#On vérifie qu'il existe bien des jeux associés aux préférences dans notre base de données, autrement on retire un nouveau bot        \n",
    "while len(readers.Interest.value_counts())!=2:\n",
    "    bot=select(nbGenre,nbConsole)\n",
    "    labelisation()"
   ]
  },
  {
   "cell_type": "markdown",
   "id": "concrete-television",
   "metadata": {},
   "source": [
    "Notre base de données est maintenant encodée et labelisée, on peut sépare donc nos données en train et test"
   ]
  },
  {
   "cell_type": "code",
   "execution_count": 30,
   "id": "baking-party",
   "metadata": {},
   "outputs": [
    {
     "name": "stdout",
     "output_type": "stream",
     "text": [
      "        Name  Platform  Year  Genre  Publisher  NA_Sales  EU_Sales  JP_Sales  \\\n",
      "5509    6518         1  2005      5        316      0.16      0.00      0.10   \n",
      "15798   5571         0  2015      0        263      0.00      0.04      0.00   \n",
      "8353    8417         0  2008      0        265      1.74      0.80      0.00   \n",
      "10783   8732         1  2009      1        240      0.00      0.00      0.07   \n",
      "16134  10540         1  2016      1         26      0.04      0.00      0.01   \n",
      "...      ...       ...   ...    ...        ...       ...       ...       ...   \n",
      "15761   5632         2  2015      2        503      0.01      0.04      0.00   \n",
      "15455   6283         1  2015      3        328      0.01      0.61      0.02   \n",
      "12789   7482         0  2011     10          5      0.03      0.21      0.00   \n",
      "10693   4941         1  2009     10        454      0.08      0.00      0.00   \n",
      "8479    8183         3  2008      4        409      0.56      0.33      0.01   \n",
      "\n",
      "       Global_Sales  \n",
      "5509           0.27  \n",
      "15798          0.04  \n",
      "8353           2.80  \n",
      "10783          0.07  \n",
      "16134          0.06  \n",
      "...             ...  \n",
      "15761          0.05  \n",
      "15455          0.69  \n",
      "12789          0.28  \n",
      "10693          0.09  \n",
      "8479           1.03  \n",
      "\n",
      "[11463 rows x 9 columns]\n",
      "5509     0\n",
      "15798    0\n",
      "8353     0\n",
      "10783    0\n",
      "16134    0\n",
      "        ..\n",
      "15761    0\n",
      "15455    0\n",
      "12789    0\n",
      "10693    0\n",
      "8479     0\n",
      "Name: Interest, Length: 11463, dtype: int32\n"
     ]
    }
   ],
   "source": [
    "X = readers.drop('Interest',axis=1)\n",
    "y = readers['Interest']\n",
    "y=y.astype('int')\n",
    "\n",
    "\n",
    "X_train, X_test,y_train,y_test= train_test_split(X, y, test_size=0.25, random_state=42)\n",
    "\n",
    "print(X_train)\n",
    "print(y_train)\n"
   ]
  },
  {
   "cell_type": "markdown",
   "id": "furnished-customer",
   "metadata": {},
   "source": [
    "Nous allons ensuite appliquer les différents modèles à l'aide d'une validation croisée sur 3 jeux de données. On affichera les résultats à la fin."
   ]
  },
  {
   "cell_type": "markdown",
   "id": "understood-nerve",
   "metadata": {},
   "source": [
    "### Application des modèles"
   ]
  },
  {
   "cell_type": "markdown",
   "id": "choice-prisoner",
   "metadata": {},
   "source": [
    "Nos données sont discrètes, on va donc utiliser les modèles qui marchent pour ce type de données à savoir : la logistic regression, knn, random forest, adaboost et xgboost."
   ]
  },
  {
   "cell_type": "markdown",
   "id": "expected-drinking",
   "metadata": {},
   "source": [
    "#### Logistic Regression"
   ]
  },
  {
   "cell_type": "code",
   "execution_count": 31,
   "id": "accompanied-thong",
   "metadata": {},
   "outputs": [
    {
     "name": "stdout",
     "output_type": "stream",
     "text": [
      "Le score moyen est :0.9427723981505715\n",
      "La vitesse moyenne fit_time : 0.23268946011861166\n"
     ]
    }
   ],
   "source": [
    "logmodel = LogisticRegression()\n",
    "logmodel.fit(X_train,y_train)\n",
    "\n",
    "\n",
    "scores_logmodel = cross_validate(logmodel, X_train, y_train, cv=3, scoring=('accuracy','precision','recall','roc_auc') )\n",
    "\n",
    "print(\"Le score moyen est :\" + str(scores_logmodel['test_accuracy'].mean()))\n",
    "print(\"La vitesse moyenne fit_time : \" + str(scores_logmodel['fit_time'].mean())) \n"
   ]
  },
  {
   "cell_type": "markdown",
   "id": "charitable-spotlight",
   "metadata": {},
   "source": [
    "#### KNN"
   ]
  },
  {
   "cell_type": "code",
   "execution_count": 32,
   "id": "combined-wayne",
   "metadata": {},
   "outputs": [
    {
     "name": "stdout",
     "output_type": "stream",
     "text": [
      "Le score moyen est :0.9432085841402774\n",
      "La vitesse moyenne fit_time: 0.04987064997355143\n"
     ]
    }
   ],
   "source": [
    "KNN = KNeighborsClassifier(7)\n",
    "KNN.fit(X_train, y_train)\n",
    "\n",
    "scores_KNN = cross_validate(KNN, X_train, y_train, cv=3, scoring=('accuracy','precision','recall','roc_auc') )\n",
    "\n",
    "print(\"Le score moyen est :\" + str(scores_KNN['test_accuracy'].mean()))\n",
    "print(\"La vitesse moyenne fit_time: \" + str(scores_KNN['fit_time'].mean()))\n",
    "\n"
   ]
  },
  {
   "cell_type": "markdown",
   "id": "absent-warning",
   "metadata": {},
   "source": [
    "#### Random Forest"
   ]
  },
  {
   "cell_type": "code",
   "execution_count": 33,
   "id": "desirable-riverside",
   "metadata": {},
   "outputs": [
    {
     "name": "stdout",
     "output_type": "stream",
     "text": [
      "Le score moyen :1.0\n",
      "La vitesse moyenne fit_time: 1.000110149383545\n"
     ]
    }
   ],
   "source": [
    "rf = RandomForestRegressor(n_estimators = 100, random_state = 2020)\n",
    "rf.fit(X_train,y_train.to_numpy())\n",
    "\n",
    "scores_rf =cross_validate(rf, X_train.values, y_train.values, cv=3, scoring=('accuracy','precision','recall','roc_auc'))\n",
    "moyenne = cross_val_score(rf,X_train,y_train,cv=3).mean()\n",
    "\n",
    "\n",
    "print(\"Le score moyen :\" + str(moyenne))\n",
    "print(\"La vitesse moyenne fit_time: \" + str(scores_rf['fit_time'].mean()))"
   ]
  },
  {
   "cell_type": "markdown",
   "id": "addressed-rating",
   "metadata": {},
   "source": [
    "#### AdaBoost"
   ]
  },
  {
   "cell_type": "code",
   "execution_count": 34,
   "id": "registered-article",
   "metadata": {},
   "outputs": [
    {
     "name": "stdout",
     "output_type": "stream",
     "text": [
      "Le score moyen est :1.0\n",
      "La vitesse moyenne fit_time: 1.3992225329081218\n"
     ]
    }
   ],
   "source": [
    "\n",
    "ada = AdaBoostClassifier(n_estimators=100, random_state=0)\n",
    "ada.fit(X_train, y_train)\n",
    "\n",
    "scores_ada = cross_validate(ada, X_train, y_train, cv=3, scoring=('accuracy','precision','recall','roc_auc') )\n",
    "\n",
    "\n",
    "print(\"Le score moyen est :\" + str(scores_ada['test_accuracy'].mean()))\n",
    "print(\"La vitesse moyenne fit_time: \" + str(scores_ada['fit_time'].mean()))"
   ]
  },
  {
   "cell_type": "markdown",
   "id": "continued-skirt",
   "metadata": {},
   "source": [
    "#### XGBoost"
   ]
  },
  {
   "cell_type": "code",
   "execution_count": 35,
   "id": "raising-trace",
   "metadata": {},
   "outputs": [
    {
     "name": "stdout",
     "output_type": "stream",
     "text": [
      "Le score moyen est :0.9911890430079385\n",
      "La vitesse moyenne fit_time: 0.10865426063537598\n"
     ]
    }
   ],
   "source": [
    "xgboost = GradientBoostingClassifier(n_estimators=10, learning_rate=1.0,max_depth=1, random_state=0).fit(X_train, y_train)\n",
    "\n",
    "\n",
    "scores_xgboost = cross_validate(xgboost, X_train, y_train, cv=3, scoring=('accuracy','precision','recall','roc_auc') )\n",
    "\n",
    "\n",
    "print(\"Le score moyen est :\" + str(scores_xgboost['test_accuracy'].mean()))\n",
    "print(\"La vitesse moyenne fit_time: \" + str(scores_xgboost['fit_time'].mean()))"
   ]
  },
  {
   "cell_type": "markdown",
   "id": "meaning-assault",
   "metadata": {},
   "source": [
    "#### Comparaison des modèles"
   ]
  },
  {
   "cell_type": "markdown",
   "id": "floppy-password",
   "metadata": {},
   "source": [
    "On compare tous les scores et les vitesses des modèles entre eux."
   ]
  },
  {
   "cell_type": "code",
   "execution_count": 36,
   "id": "virgin-playlist",
   "metadata": {},
   "outputs": [
    {
     "name": "stdout",
     "output_type": "stream",
     "text": [
      "Logistic Regression : \n",
      "Accuracy : 0.9427723981505715  Fit time : 0.23268946011861166 \n",
      "\n",
      "KNN : \n",
      "Accuracy : 0.9432085841402774  Fit time : 0.04987064997355143 \n",
      "\n",
      "Random Forest : \n",
      "Accuracy : 1.0  Fit time : 1.000110149383545 \n",
      "\n",
      "Adaboost : \n",
      "Accuracy : 1.0  Fit time : 1.3992225329081218 \n",
      "\n",
      "XGBoost : \n",
      "Accuracy : 0.9911890430079385  Fit time : 0.10865426063537598 \n",
      "\n"
     ]
    }
   ],
   "source": [
    "models = []\n",
    "\n",
    "print(\"Logistic Regression : \\nAccuracy :\",scores_logmodel['test_accuracy'].mean(),\" Fit time :\",scores_logmodel['fit_time'].mean(),\"\\n\")\n",
    "print(\"KNN : \\nAccuracy :\",scores_KNN['test_accuracy'].mean(),\" Fit time :\",scores_KNN['fit_time'].mean(),\"\\n\")\n",
    "print(\"Random Forest : \\nAccuracy :\",str(moyenne),\" Fit time :\",scores_rf['fit_time'].mean(),\"\\n\")\n",
    "print(\"Adaboost : \\nAccuracy :\",scores_ada['test_accuracy'].mean(),\" Fit time :\",scores_ada['fit_time'].mean(),\"\\n\")\n",
    "print(\"XGBoost : \\nAccuracy :\",scores_xgboost['test_accuracy'].mean(),\" Fit time :\",scores_xgboost['fit_time'].mean(),\"\\n\")\n",
    "\n",
    "\n",
    "    "
   ]
  },
  {
   "cell_type": "markdown",
   "id": "hispanic-blanket",
   "metadata": {},
   "source": [
    "On se rend compte que la plupart des modèles ont une accuracy toujours supérieure à 0,9 et très souvent même à 1 pour beaucoup de modèles. Il n'est donc pas pertinent ici de booster nos hyperparamètres."
   ]
  },
  {
   "cell_type": "markdown",
   "id": "dress-tournament",
   "metadata": {},
   "source": [
    "#### Conclusion "
   ]
  },
  {
   "cell_type": "markdown",
   "id": "invisible-netscape",
   "metadata": {},
   "source": [
    "Puisqu'on effectue une cross validation, la variation d'une performance à une autre dépend plus du bot que l'on a tiré et de la fréquence à laquelle le bot a été irrationel et n'a pas aimé même si le jeu correspondait à ses attentes. \n",
    "\n",
    "\n",
    "Après avoir lancé un grand nombre de fois notre code, XGBoost reste le plus constant avec la cross validation.\n",
    "De plus nous avons souvent plusieurs modèles avec une accuracy de 1. On peut s'y attendre car notre base données est très grande et la labélisation est \"simple\" donc le modèle apprend vite.\n",
    "\n",
    "De plus, nous savons qu'il ne s'agit pas d'overfitting car nous avons affiché l'accuracy du test.\n",
    "\n",
    "Puisque les modèles sont souvent très proches, nous avons aussi affiché le fit time qui varie beaucoup d'un modèle à l'autre.\n",
    "L'idéal serait de garder une copie à chaque lancer et faire une moyenne selon les choix tirés par le bot et regarder l'algorithme le plus efficace. \n",
    "\n",
    "\n",
    "\n",
    "On va finalement choisir xgboost pour ce modèle."
   ]
  },
  {
   "cell_type": "markdown",
   "id": "framed-evanescence",
   "metadata": {},
   "source": [
    "### I. 2) Labélisation par préférence"
   ]
  },
  {
   "cell_type": "markdown",
   "id": "electrical-realtor",
   "metadata": {},
   "source": [
    "Dans cette deuxième partie nous allons essayer de nuancer nos labels.\n",
    "\n",
    "\n",
    "Nous allons mettre une échelle de préférence de 1 à 5:\n",
    "\n",
    "1. pas interessé\n",
    "2. plutôt pas interessé\n",
    "3. neutre\n",
    "4. plutot interessé\n",
    "5. très interessé"
   ]
  },
  {
   "cell_type": "code",
   "execution_count": 306,
   "id": "plastic-ready",
   "metadata": {},
   "outputs": [],
   "source": [
    "readers[\"Interest\"] = None               #Nous ré-initialisions nos labels d'Interest à None."
   ]
  },
  {
   "cell_type": "code",
   "execution_count": 307,
   "id": "waiting-merit",
   "metadata": {},
   "outputs": [
    {
     "data": {
      "text/html": [
       "<div>\n",
       "<style scoped>\n",
       "    .dataframe tbody tr th:only-of-type {\n",
       "        vertical-align: middle;\n",
       "    }\n",
       "\n",
       "    .dataframe tbody tr th {\n",
       "        vertical-align: top;\n",
       "    }\n",
       "\n",
       "    .dataframe thead th {\n",
       "        text-align: right;\n",
       "    }\n",
       "</style>\n",
       "<table border=\"1\" class=\"dataframe\">\n",
       "  <thead>\n",
       "    <tr style=\"text-align: right;\">\n",
       "      <th></th>\n",
       "      <th>Name</th>\n",
       "      <th>Platform</th>\n",
       "      <th>Year</th>\n",
       "      <th>Genre</th>\n",
       "      <th>Publisher</th>\n",
       "      <th>NA_Sales</th>\n",
       "      <th>EU_Sales</th>\n",
       "      <th>JP_Sales</th>\n",
       "      <th>Global_Sales</th>\n",
       "      <th>Interest</th>\n",
       "    </tr>\n",
       "  </thead>\n",
       "  <tbody>\n",
       "    <tr>\n",
       "      <th>6766</th>\n",
       "      <td>1088</td>\n",
       "      <td>3</td>\n",
       "      <td>2006</td>\n",
       "      <td>3</td>\n",
       "      <td>252</td>\n",
       "      <td>0.03</td>\n",
       "      <td>0.02</td>\n",
       "      <td>0.00</td>\n",
       "      <td>0.06</td>\n",
       "      <td>None</td>\n",
       "    </tr>\n",
       "    <tr>\n",
       "      <th>13434</th>\n",
       "      <td>5584</td>\n",
       "      <td>0</td>\n",
       "      <td>2011</td>\n",
       "      <td>7</td>\n",
       "      <td>78</td>\n",
       "      <td>0.00</td>\n",
       "      <td>0.00</td>\n",
       "      <td>0.03</td>\n",
       "      <td>0.03</td>\n",
       "      <td>None</td>\n",
       "    </tr>\n",
       "    <tr>\n",
       "      <th>9146</th>\n",
       "      <td>5079</td>\n",
       "      <td>1</td>\n",
       "      <td>2008</td>\n",
       "      <td>10</td>\n",
       "      <td>454</td>\n",
       "      <td>0.11</td>\n",
       "      <td>0.00</td>\n",
       "      <td>0.00</td>\n",
       "      <td>0.12</td>\n",
       "      <td>None</td>\n",
       "    </tr>\n",
       "    <tr>\n",
       "      <th>4530</th>\n",
       "      <td>5405</td>\n",
       "      <td>1</td>\n",
       "      <td>2004</td>\n",
       "      <td>1</td>\n",
       "      <td>328</td>\n",
       "      <td>0.60</td>\n",
       "      <td>0.22</td>\n",
       "      <td>0.00</td>\n",
       "      <td>0.84</td>\n",
       "      <td>None</td>\n",
       "    </tr>\n",
       "    <tr>\n",
       "      <th>8323</th>\n",
       "      <td>8694</td>\n",
       "      <td>1</td>\n",
       "      <td>2008</td>\n",
       "      <td>2</td>\n",
       "      <td>328</td>\n",
       "      <td>6.75</td>\n",
       "      <td>2.61</td>\n",
       "      <td>2.66</td>\n",
       "      <td>13.04</td>\n",
       "      <td>None</td>\n",
       "    </tr>\n",
       "    <tr>\n",
       "      <th>...</th>\n",
       "      <td>...</td>\n",
       "      <td>...</td>\n",
       "      <td>...</td>\n",
       "      <td>...</td>\n",
       "      <td>...</td>\n",
       "      <td>...</td>\n",
       "      <td>...</td>\n",
       "      <td>...</td>\n",
       "      <td>...</td>\n",
       "      <td>...</td>\n",
       "    </tr>\n",
       "    <tr>\n",
       "      <th>7288</th>\n",
       "      <td>7152</td>\n",
       "      <td>3</td>\n",
       "      <td>2007</td>\n",
       "      <td>0</td>\n",
       "      <td>448</td>\n",
       "      <td>0.31</td>\n",
       "      <td>0.00</td>\n",
       "      <td>0.00</td>\n",
       "      <td>0.85</td>\n",
       "      <td>None</td>\n",
       "    </tr>\n",
       "    <tr>\n",
       "      <th>15344</th>\n",
       "      <td>8498</td>\n",
       "      <td>3</td>\n",
       "      <td>2014</td>\n",
       "      <td>4</td>\n",
       "      <td>78</td>\n",
       "      <td>0.00</td>\n",
       "      <td>0.00</td>\n",
       "      <td>0.01</td>\n",
       "      <td>0.01</td>\n",
       "      <td>None</td>\n",
       "    </tr>\n",
       "    <tr>\n",
       "      <th>9120</th>\n",
       "      <td>534</td>\n",
       "      <td>1</td>\n",
       "      <td>2008</td>\n",
       "      <td>10</td>\n",
       "      <td>49</td>\n",
       "      <td>0.12</td>\n",
       "      <td>0.00</td>\n",
       "      <td>0.00</td>\n",
       "      <td>0.13</td>\n",
       "      <td>None</td>\n",
       "    </tr>\n",
       "    <tr>\n",
       "      <th>2347</th>\n",
       "      <td>10023</td>\n",
       "      <td>3</td>\n",
       "      <td>2001</td>\n",
       "      <td>2</td>\n",
       "      <td>448</td>\n",
       "      <td>1.19</td>\n",
       "      <td>1.15</td>\n",
       "      <td>0.04</td>\n",
       "      <td>2.79</td>\n",
       "      <td>None</td>\n",
       "    </tr>\n",
       "    <tr>\n",
       "      <th>11613</th>\n",
       "      <td>2263</td>\n",
       "      <td>3</td>\n",
       "      <td>2010</td>\n",
       "      <td>2</td>\n",
       "      <td>316</td>\n",
       "      <td>0.11</td>\n",
       "      <td>0.04</td>\n",
       "      <td>0.09</td>\n",
       "      <td>0.27</td>\n",
       "      <td>None</td>\n",
       "    </tr>\n",
       "  </tbody>\n",
       "</table>\n",
       "<p>15285 rows × 10 columns</p>\n",
       "</div>"
      ],
      "text/plain": [
       "        Name  Platform  Year  Genre  Publisher  NA_Sales  EU_Sales  JP_Sales  \\\n",
       "6766    1088         3  2006      3        252      0.03      0.02      0.00   \n",
       "13434   5584         0  2011      7         78      0.00      0.00      0.03   \n",
       "9146    5079         1  2008     10        454      0.11      0.00      0.00   \n",
       "4530    5405         1  2004      1        328      0.60      0.22      0.00   \n",
       "8323    8694         1  2008      2        328      6.75      2.61      2.66   \n",
       "...      ...       ...   ...    ...        ...       ...       ...       ...   \n",
       "7288    7152         3  2007      0        448      0.31      0.00      0.00   \n",
       "15344   8498         3  2014      4         78      0.00      0.00      0.01   \n",
       "9120     534         1  2008     10         49      0.12      0.00      0.00   \n",
       "2347   10023         3  2001      2        448      1.19      1.15      0.04   \n",
       "11613   2263         3  2010      2        316      0.11      0.04      0.09   \n",
       "\n",
       "       Global_Sales Interest  \n",
       "6766           0.06     None  \n",
       "13434          0.03     None  \n",
       "9146           0.12     None  \n",
       "4530           0.84     None  \n",
       "8323          13.04     None  \n",
       "...             ...      ...  \n",
       "7288           0.85     None  \n",
       "15344          0.01     None  \n",
       "9120           0.13     None  \n",
       "2347           2.79     None  \n",
       "11613          0.27     None  \n",
       "\n",
       "[15285 rows x 10 columns]"
      ]
     },
     "execution_count": 307,
     "metadata": {},
     "output_type": "execute_result"
    }
   ],
   "source": [
    "readers"
   ]
  },
  {
   "cell_type": "markdown",
   "id": "therapeutic-degree",
   "metadata": {},
   "source": [
    "#### Labelisation et utilisation d'un bot avancé"
   ]
  },
  {
   "cell_type": "markdown",
   "id": "crucial-pennsylvania",
   "metadata": {},
   "source": [
    "Nous allons essayer de créer un bot qui se rapproche un peu plus de la réalité. Pour cela, nous allons lui choisir une région à l'aide du bot (North America, Europe, Japan) et analyser les préférences des acheteurs de ces régions.\n",
    "\n",
    "Pour cela nous allons introduire un seuil qui correspond aux 75% des jeux les plus vendus dans cette région. Si le jeu est dans ces 75% alors nous allons le pré-labéliser à 3 (neutre). \n",
    "\n",
    "De le même manière, nous allons créer un second seuil qui regardera les 15% de jeux les plus vendus dans la région et nous allons le pré-labléiser à 4 (plutôt interessé).\n",
    "\n",
    "Ensuite nous regarderons les ventes dans le monde. Si le jeu fait parti des 75% des jeux les plus vendus dans le monde on le pré-labélise à 2 (plutôt pas intéressé) et s'il fait parti des 40% des jeux les plus vendus dans le monde nous allons le pré-labéliser à 3 (neutre)\n",
    "\n",
    "Si le jeu proposé correspond en plus au couple (console,genre1) ou (console,genre2) alors on augmente le label de 1. \n",
    " "
   ]
  },
  {
   "cell_type": "code",
   "execution_count": 308,
   "id": "legal-johnson",
   "metadata": {},
   "outputs": [],
   "source": [
    "# Ici on traite les ventes dans le monde\n",
    "\n",
    "\n",
    "\n",
    "seuil_Global_Sales_75= int(0.25*len(X['Global_Sales'].sort_values()))             #nombre de jeux qui font parti des 25% des jeux les moins vendus       \n",
    "liste_Global_Sales_75= X['Global_Sales'].sort_values()                            #on trie les jeux par ordre croissant de vente\n",
    "liste_Global_Sales_75=liste_Global_Sales_75.tolist()\n",
    "\n",
    "\n",
    "for i in range(seuil_Global_Sales_75):\n",
    "    liste_Global_Sales_75.pop(0)\n",
    "\n",
    "#A la fin on obtient une liste des 75% des jeux les plus vendus dans le monde\n",
    "\n",
    "\n",
    "seuil_Global_Sales_40= int(0.6*len(X['Global_Sales'].sort_values()))             #nombre de jeux qui qui font parti des 60% les moins vendus       \n",
    "liste_Global_Sales_40= X['Global_Sales'].sort_values()                            #on trie les jeux par ordre croissant de vente\n",
    "liste_Global_Sales_40=liste_Global_Sales_40.tolist()\n",
    "\n",
    "\n",
    "for i in range(seuil_Global_Sales_40):\n",
    "    liste_Global_Sales_40.pop(0)\n",
    "    \n",
    "#A la fin on obtient une liste des 40% des jeux les plus vendus dans le monde"
   ]
  },
  {
   "cell_type": "code",
   "execution_count": 309,
   "id": "tested-terrain",
   "metadata": {},
   "outputs": [],
   "source": [
    "# Ici on traite les ventes dans la région de l'acheteur\n",
    "\n",
    "\n",
    "#L'acheteur vient d'Amérique du Nord\n",
    "if bot[3]==0:                                                                   \n",
    "    seuil_region_Sales_75= int(0.25*len(X['NA_Sales'].sort_values()))             #nombre de jeux qui font parti des 25% des jeux les moins vendus       \n",
    "    liste_region_Sales_75= X['NA_Sales'].sort_values()                            #on trie les jeux par ordre croissant de vente\n",
    "    liste_region_Sales_75=liste_region_Sales_75.tolist()\n",
    "\n",
    "\n",
    "    for i in range(seuil_region_Sales_75):\n",
    "        liste_region_Sales_75.pop(0)\n",
    "\n",
    "#A la fin on obtient une liste des 75% des jeux les plus vendus en Amérique du Nord\n",
    "\n",
    "\n",
    "    seuil_region_Sales_15= int(0.85*len(X['NA_Sales'].sort_values()))             #nombre de jeux qui qui font parti des 85% les moins vendus       \n",
    "    liste_region_Sales_15= X['NA_Sales'].sort_values()                            #on trie les jeux par ordre croissant de vente\n",
    "    liste_region_Sales_15=liste_region_Sales_15.tolist()\n",
    "\n",
    "\n",
    "    for i in range(seuil_region_Sales_15):\n",
    "        liste_region_Sales_15.pop(0)\n",
    "    \n",
    "#A la fin on obtient une liste des 15% des jeux les plus vendus en Amérique du Nord\n",
    "\n",
    "\n",
    "\n",
    "\n",
    "\n",
    "\n",
    "#L'acheteur vient d'Europe\n",
    "elif bot[3]==1:\n",
    "    seuil_region_Sales_75= int(0.25*len(X['EU_Sales'].sort_values()))             #nombre de jeux qui font parti des 25% des jeux les moins vendus       \n",
    "    liste_region_Sales_75= X['EU_Sales'].sort_values()                            #on trie les jeux par ordre croissant de vente\n",
    "    liste_region_Sales_75=liste_region_Sales_75.tolist()\n",
    "\n",
    "\n",
    "    for i in range(seuil_region_Sales_75):\n",
    "        liste_region_Sales_75.pop(0)\n",
    "\n",
    "#A la fin on obtient une liste des 75% des jeux les plus vendus en Europe\n",
    "\n",
    "\n",
    "    seuil_region_Sales_15= int(0.85*len(X['EU_Sales'].sort_values()))             #nombre de jeux qui qui font parti des 85% les moins vendus       \n",
    "    liste_region_Sales_15= X['EU_Sales'].sort_values()                            #on trie les jeux par ordre croissant de vente\n",
    "    liste_region_Sales_15=liste_region_Sales_15.tolist()\n",
    "\n",
    "\n",
    "    for i in range(seuil_region_Sales_15):\n",
    "        liste_region_Sales_15.pop(0)\n",
    "    \n",
    "#A la fin on obtient une liste des 15% des jeux les plus vendus en Europe\n",
    "\n",
    "\n",
    "\n",
    "\n",
    "\n",
    "#L'acheteur vient du Japon\n",
    "else : \n",
    "    seuil_region_Sales_75= int(0.25*len(X['JP_Sales'].sort_values()))             #nombre de jeux qui font parti des 25% des jeux les moins vendus       \n",
    "    liste_region_Sales_75= X['JP_Sales'].sort_values()                            #on trie les jeux par ordre croissant de vente\n",
    "    liste_region_Sales_75=liste_region_Sales_75.tolist()\n",
    "\n",
    "\n",
    "    for i in range(seuil_region_Sales_75):\n",
    "        liste_region_Sales_75.pop(0)\n",
    "\n",
    "#A la fin on obtient une liste des 75% des jeux les plus vendus au Japon\n",
    "\n",
    "\n",
    "    seuil_region_Sales_15= int(0.85*len(X['JP_Sales'].sort_values()))             #nombre de jeux qui qui font parti des 85% les moins vendus       \n",
    "    liste_region_Sales_15= X['JP_Sales'].sort_values()                            #on trie les jeux par ordre croissant de vente\n",
    "    liste_region_Sales_15=liste_region_Sales_15.tolist()\n",
    "\n",
    "\n",
    "    for i in range(seuil_region_Sales_15):\n",
    "        liste_region_Sales_15.pop(0)\n",
    "    \n",
    "#A la fin on obtient une liste des 15% des jeux les plus vendus au Japon\n",
    "    "
   ]
  },
  {
   "cell_type": "markdown",
   "id": "legendary-scratch",
   "metadata": {},
   "source": [
    "Ensuite, on a toutes les informations pour labeliser notre base de données."
   ]
  },
  {
   "cell_type": "code",
   "execution_count": 310,
   "id": "first-layer",
   "metadata": {},
   "outputs": [],
   "source": [
    "for elt in readers.iterrows(): \n",
    "    readers.loc[elt[0], 'Interest'] = 1                               #On met le jeu à 1 pas interessé par défaut\n",
    "    \n",
    "    #Si l'acheteur vient d'Amérique du nord\n",
    "    if bot[3]==0:\n",
    "        if readers.loc[elt[0]].NA_Sales in liste_region_Sales_75 :      ##Le jeu est dans les 75% les plus vendus en Amérique du Nord, on le met à neutre 3\n",
    "            readers.loc[elt[0], 'Interest'] = 3\n",
    "            \n",
    "        if readers.loc[elt[0]].NA_Sales in liste_region_Sales_15 :      ##Le jeu est dans les 15% les plus vendus en Amérique du Nord, on le met à plutôt interessé 4\n",
    "            readers.loc[elt[0], 'Interest'] = 4\n",
    "            \n",
    "    #Si l'acheteur vient d'Europe\n",
    "    elif bot[3]==1:\n",
    "        if readers.loc[elt[0]].EU_Sales in liste_region_Sales_75 :      ##Le jeu est dans les 75% les plus vendus en Europe, on le met à neutre 3\n",
    "            readers.loc[elt[0], 'Interest'] = 3\n",
    "            \n",
    "        if readers.loc[elt[0]].EU_Sales in liste_region_Sales_15 :      ##Le jeu est dans les 15% les plus vendus en Europe, on le met à plutôt interessé 4\n",
    "            readers.loc[elt[0], 'Interest'] = 4\n",
    "            \n",
    "    #Si l'acheteur vient du Japon\n",
    "    else :\n",
    "        if readers.loc[elt[0]].JP_Sales in liste_region_Sales_75 :      ##Le jeu est dans les 75% les plus vendus au Japon, on le met à neutre 3\n",
    "            readers.loc[elt[0], 'Interest'] = 3\n",
    "            \n",
    "        if readers.loc[elt[0]].JP_Sales in liste_region_Sales_15 :      ##Le jeu est dans les 15% les plus vendus au Japon, on le met à plutôt interessé 4\n",
    "            readers.loc[elt[0], 'Interest'] = 4\n",
    "\n",
    "            \n",
    "            \n",
    "    if readers.loc[elt[0], 'Interest'] < 3 :                              #Si on est pas déjà au moins à neutre\n",
    "        if readers.loc[elt[0]].Global_Sales in liste_Global_Sales_75 :      ##Le jeu est dans les 75% les plus vendus dans le monde, on le met à plutôt pas interessé\n",
    "            readers.loc[elt[0], 'Interest'] = 2\n",
    "    \n",
    "        if readers.loc[elt[0]].Global_Sales in liste_Global_Sales_40 :      ##Le jeu est dans les 40% les plus vendus dans le monde, on le met à neutre.\n",
    "            readers.loc[elt[0], 'Interest'] = 3\n",
    "            \n",
    "            \n",
    "            \n",
    "    \n",
    "    ##On regarde si le jeu correspond au couple de préférence (console, genre1) ou (console, genre2)\n",
    "    \n",
    "    if (((readers.loc[elt[0]].Platform==bot[2]) & (readers.loc[elt[0]].Genre==bot[0])) | ((readers.loc[elt[0]].Platform==bot[2]) & ( readers.loc[elt[0]].Genre==bot[1]))):\n",
    "                readers.loc[elt[0], 'Interest'] += 1                        #Si oui on ajoute 1 à son intérêt\n",
    "        \n",
    "\n",
    "        \n",
    "        "
   ]
  },
  {
   "cell_type": "code",
   "execution_count": 311,
   "id": "negative-command",
   "metadata": {},
   "outputs": [
    {
     "data": {
      "text/html": [
       "<div>\n",
       "<style scoped>\n",
       "    .dataframe tbody tr th:only-of-type {\n",
       "        vertical-align: middle;\n",
       "    }\n",
       "\n",
       "    .dataframe tbody tr th {\n",
       "        vertical-align: top;\n",
       "    }\n",
       "\n",
       "    .dataframe thead th {\n",
       "        text-align: right;\n",
       "    }\n",
       "</style>\n",
       "<table border=\"1\" class=\"dataframe\">\n",
       "  <thead>\n",
       "    <tr style=\"text-align: right;\">\n",
       "      <th></th>\n",
       "      <th>Name</th>\n",
       "      <th>Platform</th>\n",
       "      <th>Year</th>\n",
       "      <th>Genre</th>\n",
       "      <th>Publisher</th>\n",
       "      <th>NA_Sales</th>\n",
       "      <th>EU_Sales</th>\n",
       "      <th>JP_Sales</th>\n",
       "      <th>Global_Sales</th>\n",
       "      <th>Interest</th>\n",
       "    </tr>\n",
       "  </thead>\n",
       "  <tbody>\n",
       "    <tr>\n",
       "      <th>6766</th>\n",
       "      <td>1088</td>\n",
       "      <td>3</td>\n",
       "      <td>2006</td>\n",
       "      <td>3</td>\n",
       "      <td>252</td>\n",
       "      <td>0.03</td>\n",
       "      <td>0.02</td>\n",
       "      <td>0.00</td>\n",
       "      <td>0.06</td>\n",
       "      <td>3</td>\n",
       "    </tr>\n",
       "    <tr>\n",
       "      <th>13434</th>\n",
       "      <td>5584</td>\n",
       "      <td>0</td>\n",
       "      <td>2011</td>\n",
       "      <td>7</td>\n",
       "      <td>78</td>\n",
       "      <td>0.00</td>\n",
       "      <td>0.00</td>\n",
       "      <td>0.03</td>\n",
       "      <td>0.03</td>\n",
       "      <td>3</td>\n",
       "    </tr>\n",
       "    <tr>\n",
       "      <th>9146</th>\n",
       "      <td>5079</td>\n",
       "      <td>1</td>\n",
       "      <td>2008</td>\n",
       "      <td>10</td>\n",
       "      <td>454</td>\n",
       "      <td>0.11</td>\n",
       "      <td>0.00</td>\n",
       "      <td>0.00</td>\n",
       "      <td>0.12</td>\n",
       "      <td>3</td>\n",
       "    </tr>\n",
       "    <tr>\n",
       "      <th>4530</th>\n",
       "      <td>5405</td>\n",
       "      <td>1</td>\n",
       "      <td>2004</td>\n",
       "      <td>1</td>\n",
       "      <td>328</td>\n",
       "      <td>0.60</td>\n",
       "      <td>0.22</td>\n",
       "      <td>0.00</td>\n",
       "      <td>0.84</td>\n",
       "      <td>3</td>\n",
       "    </tr>\n",
       "    <tr>\n",
       "      <th>8323</th>\n",
       "      <td>8694</td>\n",
       "      <td>1</td>\n",
       "      <td>2008</td>\n",
       "      <td>2</td>\n",
       "      <td>328</td>\n",
       "      <td>6.75</td>\n",
       "      <td>2.61</td>\n",
       "      <td>2.66</td>\n",
       "      <td>13.04</td>\n",
       "      <td>4</td>\n",
       "    </tr>\n",
       "    <tr>\n",
       "      <th>...</th>\n",
       "      <td>...</td>\n",
       "      <td>...</td>\n",
       "      <td>...</td>\n",
       "      <td>...</td>\n",
       "      <td>...</td>\n",
       "      <td>...</td>\n",
       "      <td>...</td>\n",
       "      <td>...</td>\n",
       "      <td>...</td>\n",
       "      <td>...</td>\n",
       "    </tr>\n",
       "    <tr>\n",
       "      <th>7288</th>\n",
       "      <td>7152</td>\n",
       "      <td>3</td>\n",
       "      <td>2007</td>\n",
       "      <td>0</td>\n",
       "      <td>448</td>\n",
       "      <td>0.31</td>\n",
       "      <td>0.00</td>\n",
       "      <td>0.00</td>\n",
       "      <td>0.85</td>\n",
       "      <td>3</td>\n",
       "    </tr>\n",
       "    <tr>\n",
       "      <th>15344</th>\n",
       "      <td>8498</td>\n",
       "      <td>3</td>\n",
       "      <td>2014</td>\n",
       "      <td>4</td>\n",
       "      <td>78</td>\n",
       "      <td>0.00</td>\n",
       "      <td>0.00</td>\n",
       "      <td>0.01</td>\n",
       "      <td>0.01</td>\n",
       "      <td>3</td>\n",
       "    </tr>\n",
       "    <tr>\n",
       "      <th>9120</th>\n",
       "      <td>534</td>\n",
       "      <td>1</td>\n",
       "      <td>2008</td>\n",
       "      <td>10</td>\n",
       "      <td>49</td>\n",
       "      <td>0.12</td>\n",
       "      <td>0.00</td>\n",
       "      <td>0.00</td>\n",
       "      <td>0.13</td>\n",
       "      <td>3</td>\n",
       "    </tr>\n",
       "    <tr>\n",
       "      <th>2347</th>\n",
       "      <td>10023</td>\n",
       "      <td>3</td>\n",
       "      <td>2001</td>\n",
       "      <td>2</td>\n",
       "      <td>448</td>\n",
       "      <td>1.19</td>\n",
       "      <td>1.15</td>\n",
       "      <td>0.04</td>\n",
       "      <td>2.79</td>\n",
       "      <td>3</td>\n",
       "    </tr>\n",
       "    <tr>\n",
       "      <th>11613</th>\n",
       "      <td>2263</td>\n",
       "      <td>3</td>\n",
       "      <td>2010</td>\n",
       "      <td>2</td>\n",
       "      <td>316</td>\n",
       "      <td>0.11</td>\n",
       "      <td>0.04</td>\n",
       "      <td>0.09</td>\n",
       "      <td>0.27</td>\n",
       "      <td>4</td>\n",
       "    </tr>\n",
       "  </tbody>\n",
       "</table>\n",
       "<p>15285 rows × 10 columns</p>\n",
       "</div>"
      ],
      "text/plain": [
       "        Name  Platform  Year  Genre  Publisher  NA_Sales  EU_Sales  JP_Sales  \\\n",
       "6766    1088         3  2006      3        252      0.03      0.02      0.00   \n",
       "13434   5584         0  2011      7         78      0.00      0.00      0.03   \n",
       "9146    5079         1  2008     10        454      0.11      0.00      0.00   \n",
       "4530    5405         1  2004      1        328      0.60      0.22      0.00   \n",
       "8323    8694         1  2008      2        328      6.75      2.61      2.66   \n",
       "...      ...       ...   ...    ...        ...       ...       ...       ...   \n",
       "7288    7152         3  2007      0        448      0.31      0.00      0.00   \n",
       "15344   8498         3  2014      4         78      0.00      0.00      0.01   \n",
       "9120     534         1  2008     10         49      0.12      0.00      0.00   \n",
       "2347   10023         3  2001      2        448      1.19      1.15      0.04   \n",
       "11613   2263         3  2010      2        316      0.11      0.04      0.09   \n",
       "\n",
       "       Global_Sales Interest  \n",
       "6766           0.06        3  \n",
       "13434          0.03        3  \n",
       "9146           0.12        3  \n",
       "4530           0.84        3  \n",
       "8323          13.04        4  \n",
       "...             ...      ...  \n",
       "7288           0.85        3  \n",
       "15344          0.01        3  \n",
       "9120           0.13        3  \n",
       "2347           2.79        3  \n",
       "11613          0.27        4  \n",
       "\n",
       "[15285 rows x 10 columns]"
      ]
     },
     "execution_count": 311,
     "metadata": {},
     "output_type": "execute_result"
    }
   ],
   "source": [
    "readers"
   ]
  },
  {
   "cell_type": "markdown",
   "id": "martial-aquarium",
   "metadata": {},
   "source": [
    "On sépare ensuite notre base de données en train test"
   ]
  },
  {
   "cell_type": "code",
   "execution_count": 312,
   "id": "durable-affiliate",
   "metadata": {},
   "outputs": [
    {
     "name": "stdout",
     "output_type": "stream",
     "text": [
      "       Name  Platform  Year  Genre  Publisher  NA_Sales  EU_Sales  JP_Sales  \\\n",
      "14395  5356         0  2013      0        252      0.29      0.16      0.00   \n",
      "15040  3154         3  2014      6         84      0.05      0.11      0.01   \n",
      "2520   5831         0  2001      6        128      0.25      0.07      0.00   \n",
      "12770  6885         0  2011      2        482      0.18      0.10      0.00   \n",
      "1468   9981         1  1998      2        448      0.17      0.04      0.00   \n",
      "...     ...       ...   ...    ...        ...       ...       ...       ...   \n",
      "1623   8436         1  1998      4        218      0.02      0.01      0.00   \n",
      "12381  3902         1  2010      9        112      0.02      0.00      0.00   \n",
      "11421  9442         3  2010      8        316      0.18      0.21      0.07   \n",
      "9886   4969         3  2009      6        448      0.52      0.26      0.00   \n",
      "15589   531         3  2015      1        461      0.10      0.04      0.00   \n",
      "\n",
      "       Global_Sales  \n",
      "14395          0.50  \n",
      "15040          0.21  \n",
      "2520           0.33  \n",
      "12770          0.30  \n",
      "1468           0.21  \n",
      "...             ...  \n",
      "1623           0.03  \n",
      "12381          0.02  \n",
      "11421          0.55  \n",
      "9886           0.91  \n",
      "15589          0.17  \n",
      "\n",
      "[11463 rows x 9 columns]\n",
      "14395    3\n",
      "15040    3\n",
      "2520     3\n",
      "12770    3\n",
      "1468     3\n",
      "        ..\n",
      "1623     3\n",
      "12381    3\n",
      "11421    3\n",
      "9886     3\n",
      "15589    3\n",
      "Name: Interest, Length: 11463, dtype: int32\n"
     ]
    }
   ],
   "source": [
    "X = readers.drop('Interest',axis=1)\n",
    "y = readers['Interest']\n",
    "y=y.astype('int')\n",
    "\n",
    "\n",
    "\n",
    "X_train, X_test,y_train,y_test= train_test_split(X, y, test_size=0.25, random_state=42)\n",
    " \n",
    "\n",
    "print(X_train)\n",
    "print(y_train)"
   ]
  },
  {
   "cell_type": "markdown",
   "id": "broke-mainland",
   "metadata": {},
   "source": [
    "#### Logistic Regression"
   ]
  },
  {
   "cell_type": "markdown",
   "id": "social-favorite",
   "metadata": {},
   "source": [
    "On s'attend à ce que la logistic regression ne marche pas bien puisque nos données ne sont plus binaires."
   ]
  },
  {
   "cell_type": "code",
   "execution_count": 313,
   "id": "quick-segment",
   "metadata": {},
   "outputs": [
    {
     "name": "stdout",
     "output_type": "stream",
     "text": [
      "Le score moyen est :0.8637711494854351\n",
      "La vitesse moyenne fit_time: 0.2800375620524089\n"
     ]
    }
   ],
   "source": [
    "logmodel = LogisticRegression()\n",
    "\n",
    "#On fait une cross validation sur 3 jeux de données différents\n",
    "somme_score_cross_validation =0\n",
    "moyenne_score_cross_validation_logmodel =0\n",
    "for i in range(3):\n",
    "    readers = sklearn.utils.shuffle(readers)                                                             #On mélange readers\n",
    "    X = readers.drop('Interest',axis=1)\n",
    "    y = readers['Interest']\n",
    "    y=y.astype('int')\n",
    "    X_train, X_test,y_train,y_test= train_test_split(X, y, test_size=0.25, random_state=42)\n",
    "    logmodel.fit(X_train,y_train)\n",
    "    somme_score_cross_validation += logmodel.score(X_test,y_test)\n",
    "moyenne_score_cross_validation_logmodel =somme_score_cross_validation/3\n",
    "\n",
    "\n",
    "\n",
    "scores_logmodel = cross_validate(logmodel, X_train, y_train, cv=3, scoring=('accuracy','precision','recall','roc_auc') )\n",
    "\n",
    "print(\"Le score moyen est :\" + str(moyenne_score_cross_validation_logmodel))\n",
    "print(\"La vitesse moyenne fit_time: \" + str(scores_logmodel['fit_time'].mean()))\n",
    "\n"
   ]
  },
  {
   "cell_type": "markdown",
   "id": "sonic-astronomy",
   "metadata": {},
   "source": [
    "#### KNN"
   ]
  },
  {
   "cell_type": "code",
   "execution_count": 314,
   "id": "suffering-converter",
   "metadata": {
    "scrolled": true
   },
   "outputs": [
    {
     "name": "stdout",
     "output_type": "stream",
     "text": [
      "Le score moyen est : 0.8623757195185767\n",
      "La vitesse moyenne fit_time: 0.05584422747294108\n"
     ]
    }
   ],
   "source": [
    "KNN = KNeighborsClassifier(7)\n",
    "\n",
    "#On fait une cross validation sur 3 jeux de données différents\n",
    "somme_score_cross_validation=0\n",
    "for i in range(3):\n",
    "    readers = sklearn.utils.shuffle(readers)                                                             #On mélange readers\n",
    "    X = readers.drop('Interest',axis=1)\n",
    "    y = readers['Interest']\n",
    "    y=y.astype('int')\n",
    "    X_train, X_test,y_train,y_test= train_test_split(X, y, test_size=0.25, random_state=42)\n",
    "    KNN.fit(X_train,y_train)\n",
    "    somme_score_cross_validation += KNN.score(X_test,y_test)\n",
    "moyenne_score_cross_validation_knn=somme_score_cross_validation/3\n",
    "\n",
    "\n",
    "scores_knn = cross_validate(KNN, X_train, y_train, cv=3, scoring=('accuracy','precision','recall','roc_auc') )\n",
    "\n",
    "print(\"Le score moyen est :\" ,moyenne_score_cross_validation_knn)\n",
    "print(\"La vitesse moyenne fit_time: \" + str(scores_KNN['fit_time'].mean()))"
   ]
  },
  {
   "cell_type": "markdown",
   "id": "becoming-herald",
   "metadata": {},
   "source": [
    "#### Random Forest"
   ]
  },
  {
   "cell_type": "code",
   "execution_count": 315,
   "id": "rising-ability",
   "metadata": {},
   "outputs": [
    {
     "name": "stdout",
     "output_type": "stream",
     "text": [
      "Le score moyen est :0.996810332678184\n",
      "La vitesse moyenne fit_time: 1.4178423881530762\n"
     ]
    }
   ],
   "source": [
    "rf = RandomForestRegressor(n_estimators = 100, random_state = 2020,max_depth= 10)\n",
    "\n",
    "\n",
    "#On fait une cross validation sur 3 jeux de données différents\n",
    "somme_score_cross_validation=0\n",
    "for i in range(3):\n",
    "    readers = sklearn.utils.shuffle(readers)                                                             #On mélange readers\n",
    "    X = readers.drop('Interest',axis=1)\n",
    "    y = readers['Interest']\n",
    "    y=y.astype('int')\n",
    "    X_train, X_test,y_train,y_test= train_test_split(X, y, test_size=0.25, random_state=42)\n",
    "    rf.fit(X_train,y_train)\n",
    "    somme_score_cross_validation += rf.score(X_test,y_test)\n",
    "moyenne_score_cross_validation_rf=somme_score_cross_validation/3\n",
    "\n",
    "\n",
    "scores_rf = cross_validate(rf, X_train, y_train, cv=3, scoring=('accuracy','precision','recall','roc_auc') )\n",
    "\n",
    "\n",
    "print(\"Le score moyen est :\" + str(moyenne_score_cross_validation_rf))\n",
    "print(\"La vitesse moyenne fit_time: \" + str(scores_rf['fit_time'].mean()))\n"
   ]
  },
  {
   "cell_type": "markdown",
   "id": "military-ability",
   "metadata": {},
   "source": [
    "#### Adaboost"
   ]
  },
  {
   "cell_type": "code",
   "execution_count": 316,
   "id": "sexual-policy",
   "metadata": {},
   "outputs": [
    {
     "name": "stdout",
     "output_type": "stream",
     "text": [
      "Le score moyen est :1.0\n",
      "La vitesse moyenne fit_time: 1.3293414115905762\n"
     ]
    }
   ],
   "source": [
    "ada = AdaBoostClassifier(n_estimators=100, random_state=0)\n",
    "\n",
    "\n",
    "\n",
    "#On fait une cross validation sur 3 jeux de données différents\n",
    "somme_score_cross_validation=0\n",
    "for i in range(3):\n",
    "    readers = sklearn.utils.shuffle(readers)                                                             #On mélange readers\n",
    "    X = readers.drop('Interest',axis=1)\n",
    "    y = readers['Interest']\n",
    "    y=y.astype('int')\n",
    "    X_train, X_test,y_train,y_test= train_test_split(X, y, test_size=0.25, random_state=42)\n",
    "    ada.fit(X_train,y_train)\n",
    "    somme_score_cross_validation += ada.score(X_test,y_test)\n",
    "moyenne_score_cross_validation_ada=somme_score_cross_validation/3\n",
    "\n",
    "\n",
    "\n",
    "\n",
    "scores_ada = cross_validate(ada, X_train.values, y_train.values, cv=3, scoring=('accuracy','precision','recall','roc_auc') )\n",
    "\n",
    "\n",
    "print(\"Le score moyen est :\" + str(moyenne_score_cross_validation_ada))\n",
    "print(\"La vitesse moyenne fit_time: \" + str(scores_ada['fit_time'].mean()))"
   ]
  },
  {
   "cell_type": "markdown",
   "id": "fatal-broad",
   "metadata": {},
   "source": [
    "#### XGBoost"
   ]
  },
  {
   "cell_type": "code",
   "execution_count": 326,
   "id": "educated-courage",
   "metadata": {},
   "outputs": [
    {
     "name": "stdout",
     "output_type": "stream",
     "text": [
      "Le score moyen est :0.8411826268969126\n",
      "La vitesse moyenne fit_time: 0.8781468073527018\n"
     ]
    }
   ],
   "source": [
    "xgboost = GradientBoostingClassifier(n_estimators=100, learning_rate=1.0,max_depth=1, random_state=0)\n",
    "\n",
    "\n",
    "#On fait une cross validation sur 3 jeux de données différents\n",
    "somme_score_cross_validation=0\n",
    "for i in range(3):\n",
    "    X = sklearn.utils.shuffle(X)                                                             #On mélange X\n",
    "    X_train, X_test,y_train,y_test= train_test_split(X, y, test_size=0.25, random_state=42)\n",
    "    xgboost.fit(X_train,y_train)\n",
    "    somme_score_cross_validation += xgboost.score(X_test,y_test)\n",
    "moyenne_score_cross_validation_xgboost=somme_score_cross_validation/3\n",
    "\n",
    "scores_xgboost = cross_validate(xgboost, X_train, y_train, cv=3, scoring=('accuracy','precision','recall','roc_auc') )\n",
    "\n",
    "print(\"Le score moyen est :\" + str(moyenne_score_cross_validation_xgboost))\n",
    "print(\"La vitesse moyenne fit_time: \" + str(scores_xgboost['fit_time'].mean()))"
   ]
  },
  {
   "cell_type": "markdown",
   "id": "egyptian-vitamin",
   "metadata": {},
   "source": [
    "#### Comparaison des modèles"
   ]
  },
  {
   "cell_type": "code",
   "execution_count": 327,
   "id": "correct-living",
   "metadata": {},
   "outputs": [
    {
     "name": "stdout",
     "output_type": "stream",
     "text": [
      "Logistic Regression : \n",
      "Accuracy : 0.8637711494854351  Fit time : 0.2800375620524089 \n",
      "\n",
      "KNN : \n",
      "Accuracy : 0.8623757195185767  Fit time : 0.05584422747294108 \n",
      "\n",
      "Random Forest : \n",
      "Accuracy : 0.996810332678184  Fit time : 1.4178423881530762 \n",
      "\n",
      "Adaboost : \n",
      "Accuracy : 1.0  Fit time : 1.3293414115905762 \n",
      "\n",
      "XGBoost : \n",
      "Accuracy : 0.8411826268969126  Fit time : 0.8781468073527018 \n",
      "\n"
     ]
    }
   ],
   "source": [
    "print(\"Logistic Regression : \\nAccuracy :\",moyenne_score_cross_validation_logmodel,\" Fit time :\",scores_logmodel['fit_time'].mean(),\"\\n\")\n",
    "print(\"KNN : \\nAccuracy :\",moyenne_score_cross_validation_knn,\" Fit time :\",scores_KNN['fit_time'].mean(),\"\\n\")\n",
    "print(\"Random Forest : \\nAccuracy :\",moyenne_score_cross_validation_rf,\" Fit time :\",scores_rf['fit_time'].mean(),\"\\n\")\n",
    "print(\"Adaboost : \\nAccuracy :\",moyenne_score_cross_validation_ada,\" Fit time :\",scores_ada['fit_time'].mean(),\"\\n\")\n",
    "print(\"XGBoost : \\nAccuracy :\",moyenne_score_cross_validation_xgboost,\" Fit time :\",scores_xgboost['fit_time'].mean(),\"\\n\")\n",
    "\n",
    "    \n"
   ]
  },
  {
   "cell_type": "markdown",
   "id": "virtual-patient",
   "metadata": {},
   "source": [
    "#### Conclusion"
   ]
  },
  {
   "cell_type": "markdown",
   "id": "crucial-furniture",
   "metadata": {},
   "source": [
    "Dans cette manière de labéliser, on se retrouve avec la même problème que précédemment. \n",
    "\n",
    "En lançant un grand nombre de fois notre base de données l'accuracy varie parfois xgboost gagne, parfois random forest etc et on ne peut finalement pas faire de conclusion. \n",
    "\n",
    "Cependant, les résultats restent élevé et suffisant pour être utilisé dans notre partie 2. \n",
    "\n",
    "J'ai choisi d'utiliser xgboost car c'est souvent celui qui gagne tout de même. Nous allons le fine-tuner car selon le bot et la labélisation, il peut parfois être amélioré."
   ]
  },
  {
   "cell_type": "markdown",
   "id": "intermediate-northern",
   "metadata": {},
   "source": [
    "#### Fine-tuning XGBoost"
   ]
  },
  {
   "cell_type": "code",
   "execution_count": 341,
   "id": "sophisticated-qatar",
   "metadata": {},
   "outputs": [
    {
     "data": {
      "text/plain": [
       "0.8411826268969126"
      ]
     },
     "execution_count": 341,
     "metadata": {},
     "output_type": "execute_result"
    }
   ],
   "source": [
    "xgboost = GradientBoostingClassifier(n_estimators=100, learning_rate=0.01,max_depth=3, random_state=0,subsample=0.8).fit(X_train, y_train)\n",
    "xgboost.score(X_test,y_test)"
   ]
  },
  {
   "cell_type": "markdown",
   "id": "thrown-primary",
   "metadata": {},
   "source": [
    "#### max_depth"
   ]
  },
  {
   "cell_type": "code",
   "execution_count": 339,
   "id": "fifteen-tourist",
   "metadata": {},
   "outputs": [
    {
     "data": {
      "image/png": "[encoded data removed]",
      "text/plain": [
       "<Figure size 432x288 with 1 Axes>"
      ]
     },
     "metadata": {
      "needs_background": "light"
     },
     "output_type": "display_data"
    },
    {
     "name": "stdout",
     "output_type": "stream",
     "text": [
      "Le meilleur max_depth est : 1\n"
     ]
    }
   ],
   "source": [
    "score_max=0\n",
    "max_depth_opti=1\n",
    "accuracies_max_depth = []\n",
    "for i in range(1,10):\n",
    "\n",
    "    xgboost = GradientBoostingClassifier(n_estimators=100, learning_rate=0.01,max_depth=i, random_state=0,subsample=0.8).fit(X_train, y_train)\n",
    "    score=xgboost.score(X_test,y_test)\n",
    "    accuracies_max_depth.append(score)\n",
    "    if score>score_max:\n",
    "        max_depth_opti=i\n",
    "        score_max=score\n",
    "    \n",
    "plt.plot(range(1,10),accuracies_max_depth)\n",
    "plt.ylabel('Accuracies_max_depth')\n",
    "plt.xlabel(\"valeurs du max_depth\")\n",
    "plt.show()\n",
    "print(\"Le meilleur max_depth est :\", max_depth_opti)"
   ]
  },
  {
   "cell_type": "code",
   "execution_count": 340,
   "id": "coordinated-grenada",
   "metadata": {},
   "outputs": [
    {
     "data": {
      "text/plain": [
       "0.8414442700156985"
      ]
     },
     "execution_count": 340,
     "metadata": {},
     "output_type": "execute_result"
    }
   ],
   "source": [
    "xgboost = GradientBoostingClassifier(n_estimators=100, learning_rate=0.01,max_depth=max_depth_opti, random_state=0,subsample=0.8).fit(X_train, y_train)\n",
    "xgboost.score(X_test,y_test)"
   ]
  },
  {
   "cell_type": "markdown",
   "id": "successful-album",
   "metadata": {},
   "source": [
    "#### learning_rate"
   ]
  },
  {
   "cell_type": "code",
   "execution_count": 343,
   "id": "given-shoulder",
   "metadata": {},
   "outputs": [
    {
     "data": {
      "image/png": "[encoded data removed]",
      "text/plain": [
       "<Figure size 432x288 with 1 Axes>"
      ]
     },
     "metadata": {
      "needs_background": "light"
     },
     "output_type": "display_data"
    },
    {
     "name": "stdout",
     "output_type": "stream",
     "text": [
      "Le meilleur max_depth est : 0.01\n"
     ]
    }
   ],
   "source": [
    "score_max=0\n",
    "learning_rate_opti= 0.001\n",
    "accuracies_learning_rate = []\n",
    "\n",
    "for i in range(1,10):\n",
    "    l = 0.01*i\n",
    "    xgboost = GradientBoostingClassifier(n_estimators=100, learning_rate=l,max_depth=max_depth_opti, random_state=0,subsample=0.8).fit(X_train, y_train)\n",
    "    score=xgboost.score(X_test,y_test)\n",
    "    accuracies_learning_rate.append(score)\n",
    "    if score>score_max:\n",
    "        learning_rate_opti=l\n",
    "        score_max=score\n",
    "        \n",
    "plt.plot(range(1,10),accuracies_learning_rate)\n",
    "plt.ylabel('Accuracies')\n",
    "plt.xlabel(\"valeurs du Learning rate\")\n",
    "plt.show()\n",
    "print(\"Le meilleur learning_rate est :\", learning_rate_opti)"
   ]
  },
  {
   "cell_type": "code",
   "execution_count": 344,
   "id": "hearing-hamburg",
   "metadata": {},
   "outputs": [
    {
     "data": {
      "text/plain": [
       "0.8414442700156985"
      ]
     },
     "execution_count": 344,
     "metadata": {},
     "output_type": "execute_result"
    }
   ],
   "source": [
    "xgboost = GradientBoostingClassifier(n_estimators=100, learning_rate=learning_rate_opti,max_depth=max_depth_opti, random_state=0,subsample=0.8).fit(X_train, y_train)\n",
    "xgboost.score(X_test,y_test)"
   ]
  },
  {
   "cell_type": "markdown",
   "id": "dried-graham",
   "metadata": {},
   "source": [
    "#### n_estimators"
   ]
  },
  {
   "cell_type": "code",
   "execution_count": 351,
   "id": "informative-chemical",
   "metadata": {},
   "outputs": [
    {
     "data": {
      "image/png": "[encoded data removed]",
      "text/plain": [
       "<Figure size 432x288 with 1 Axes>"
      ]
     },
     "metadata": {
      "needs_background": "light"
     },
     "output_type": "display_data"
    },
    {
     "name": "stdout",
     "output_type": "stream",
     "text": [
      "Le meilleur n_estimator est : 5\n"
     ]
    }
   ],
   "source": [
    "score_max=0\n",
    "n_estimators_opti= 0.001\n",
    "accuracies_n_estimator = []\n",
    "\n",
    "for i in range(5,150,10):\n",
    "    xgboost = GradientBoostingClassifier(n_estimators=i, learning_rate=l,max_depth=max_depth_opti, random_state=0,subsample=0.8).fit(X_train, y_train)\n",
    "    score=xgboost.score(X_test,y_test)\n",
    "    accuracies_n_estimator.append(score)\n",
    "    if score>score_max:\n",
    "        n_estimator_opti=i\n",
    "        score_max=score\n",
    "        \n",
    "plt.plot(range(5,150,10),accuracies_n_estimator)\n",
    "plt.ylabel('Accuracies')\n",
    "plt.xlabel(\"valeurs du n_estimator\")\n",
    "plt.show()\n",
    "print(\"Le meilleur n_estimator est :\", n_estimator_opti)"
   ]
  },
  {
   "cell_type": "code",
   "execution_count": 353,
   "id": "proper-israeli",
   "metadata": {},
   "outputs": [
    {
     "data": {
      "text/plain": [
       "0.8414442700156985"
      ]
     },
     "execution_count": 353,
     "metadata": {},
     "output_type": "execute_result"
    }
   ],
   "source": [
    "xgboost = GradientBoostingClassifier(n_estimators=n_estimator_opti, learning_rate=learning_rate_opti,max_depth=max_depth_opti, random_state=0,subsample=0.8).fit(X_train, y_train)\n",
    "xgboost.score(X_test,y_test)"
   ]
  },
  {
   "cell_type": "markdown",
   "id": "vanilla-maldives",
   "metadata": {},
   "source": [
    "On a fini de fine tuner xgboost nous pourrons l'utiliser dans la partie 2."
   ]
  },
  {
   "cell_type": "markdown",
   "id": "sexual-opening",
   "metadata": {},
   "source": [
    "## III. Application en direct"
   ]
  },
  {
   "cell_type": "markdown",
   "id": "sufficient-exercise",
   "metadata": {},
   "source": [
    "### III. 1) Application avec une labelisation binaire"
   ]
  },
  {
   "cell_type": "code",
   "execution_count": 37,
   "id": "aggressive-jungle",
   "metadata": {},
   "outputs": [],
   "source": [
    "%reset -f"
   ]
  },
  {
   "cell_type": "code",
   "execution_count": 78,
   "id": "unlike-floor",
   "metadata": {},
   "outputs": [],
   "source": [
    "import pandas as pd\n",
    "import numpy as np\n",
    "from ipywidgets import AppLayout, Button, GridspecLayout, Image, Layout, Text, Box\n",
    "import random\n",
    "from sklearn import preprocessing\n",
    "import sklearn\n",
    "from sklearn.model_selection import train_test_split\n",
    "import random\n",
    "from sklearn.linear_model import LogisticRegression\n",
    "import matplotlib.pyplot as plt\n",
    "from random import randint\n",
    "from sklearn.model_selection import cross_validate\n",
    "from sklearn.model_selection import RandomizedSearchCV\n",
    "from sklearn.model_selection import KFold\n",
    "from sklearn.model_selection import cross_val_score\n",
    "from sklearn.datasets import make_hastie_10_2\n",
    "from sklearn.ensemble import GradientBoostingClassifier\n",
    "from sklearn.linear_model import LogisticRegression\n",
    "from sklearn.neighbors import KNeighborsClassifier\n",
    "from sklearn.ensemble import AdaBoostClassifier\n",
    "from sklearn.datasets import make_classification\n",
    "from sklearn.ensemble import RandomForestRegressor\n",
    "import warnings\n",
    "warnings.filterwarnings(\"ignore\")"
   ]
  },
  {
   "cell_type": "code",
   "execution_count": 79,
   "id": "bacterial-inspection",
   "metadata": {},
   "outputs": [],
   "source": [
    "readers = pd.read_csv('vgsales.csv')"
   ]
  },
  {
   "cell_type": "markdown",
   "id": "significant-genealogy",
   "metadata": {},
   "source": [
    "On ré-applique le preprocessing."
   ]
  },
  {
   "cell_type": "code",
   "execution_count": 80,
   "id": "jewish-cleanup",
   "metadata": {},
   "outputs": [],
   "source": [
    "readers = sklearn.utils.shuffle(readers)\n",
    "\n",
    "indesirable = ['SAT','2600','NES','GB', 'DC', 'GEN', 'NG', 'SCD', 'WS', '3DO', 'TG16', 'GG', 'PCFX','PSV']\n",
    "for elt in indesirable:\n",
    "    readers = readers.drop(readers[readers.Platform == elt].index)\n",
    "    \n",
    "readers['Platform'] = readers['Platform'].replace(['DS','Wii','GBA','GC','3DS','N64','SNES','WiiU'], 'Nintendo')\n",
    "readers['Platform'] = readers['Platform'].replace(['PS2','PS3','PSP','PS','PS4'], 'Sony')\n",
    "readers['Platform'] = readers['Platform'].replace(['X360','XB','XOne'], 'Microsoft')\n",
    "\n",
    "\n",
    "readers = readers.drop(columns=[\"Rank\",\"Other_Sales\"])\n",
    "\n",
    "readers=readers.drop(readers[readers.Global_Sales==82.74].index)\n",
    "\n",
    "X=readers\n",
    "\n",
    "X = pd.DataFrame(X).fillna(\"Unknow\")\n",
    "X[\"Interest\"] = 0\n",
    "\n"
   ]
  },
  {
   "cell_type": "markdown",
   "id": "opposite-rendering",
   "metadata": {},
   "source": [
    "A titre de rapidité, nous allons prendre seulement 2000 jeux de notre base de données car sinon lorsque l'on mettra en route notre application, elle prendra du temps avant de sortir un nouveau jeu. \n",
    "\n",
    "Cependant, sur un ordinateur plus puissant il est possible de lancer le code avec la base de données en entier ou sinon il suffit d'être patient ! "
   ]
  },
  {
   "cell_type": "code",
   "execution_count": 81,
   "id": "necessary-secretary",
   "metadata": {},
   "outputs": [],
   "source": [
    "X = X[:2000]"
   ]
  },
  {
   "cell_type": "markdown",
   "id": "fantastic-wiring",
   "metadata": {},
   "source": [
    "Puis on encode les données"
   ]
  },
  {
   "cell_type": "code",
   "execution_count": 82,
   "id": "suburban-flood",
   "metadata": {},
   "outputs": [],
   "source": [
    "cols = [\"Platform\", \"Genre\",\"Publisher\",\"Name\"]\n",
    "enc = preprocessing.OrdinalEncoder()\n",
    "X_copy = X.copy()                                                  #On fait une copie pour garder les noms sans encodage pour pouvoir les afficher ensuite\n",
    "for col in cols:\n",
    "    X_copy[col] = enc.fit_transform(X_copy[[col]])\n",
    "    \n",
    "    \n",
    "X_copy = X_copy.drop('Interest',axis=1)"
   ]
  },
  {
   "cell_type": "code",
   "execution_count": 83,
   "id": "choice-trace",
   "metadata": {},
   "outputs": [],
   "source": [
    "def create_button(description, button_style):\n",
    "    return Button(\n",
    "        description=description,\n",
    "        button_style=button_style,\n",
    "        layout=Layout(height='auto', width='auto')\n",
    "    )\n",
    "\n",
    "\n",
    "def ligne_aleat():\n",
    "    liste_index=X.index.values.tolist()\n",
    "    index_aleat=random.randint(0,len(liste_index))\n",
    "    return liste_index[index_aleat]\n",
    "\n",
    "\n",
    "\n",
    "def get_Name(index, dataset):\n",
    "    return Text(value= dataset.loc[index].Name+\" Genre:\"+dataset.loc[index].Genre+\" Platform:\"+dataset.loc[index].Platform+\" Year:\"+str(dataset.loc[index].Year) , placeholder='Type something',description='Game:',disabled=False)\n"
   ]
  },
  {
   "cell_type": "code",
   "execution_count": 84,
   "id": "unknown-berkeley",
   "metadata": {},
   "outputs": [
    {
     "data": {
      "application/vnd.jupyter.widget-view+json": {
       "model_id": "a5d18da47c8b47ff8359d841c782fba9",
       "version_major": 2,
       "version_minor": 0
      },
      "text/plain": [
       "AppLayout(children=(Button(button_style='danger', description='Not Interested', layout=Layout(grid_area='left-…"
      ]
     },
     "metadata": {},
     "output_type": "display_data"
    }
   ],
   "source": [
    "\n",
    "\n",
    "# bouton gauche: Not Interested\n",
    "left_button = create_button('Not Interested', 'danger')\n",
    "\n",
    "# nom au centre\n",
    "ligne_aleat_actuel= ligne_aleat()\n",
    "center = get_Name(ligne_aleat_actuel, X)\n",
    "Name = get_Name(ligne_aleat_actuel, X)\n",
    "\n",
    "# bouton droit: Interested\n",
    "right_button = create_button('Interested', 'success')\n",
    "\n",
    "cols = [\"Platform\", \"Genre\",\"Publisher\",\"Interest\"]\n",
    "\n",
    "def on_button_clicked(b):\n",
    "\n",
    "### On met à jour la valeur selon ce que clique l'utilisateur\n",
    "    update_values(b)\n",
    "    nb_aleat = choisir_ligne_aleat()                    ##On choisit un nouveau jeu\n",
    "    update_Name(b, nb_aleat)                            ##On lui met un nouveau nom\n",
    "\n",
    "    \n",
    "\n",
    "\n",
    "def update_values(b):\n",
    "### On met à jour la colonne Interested selon le choix de l'utilisateur\n",
    "\n",
    "    global ligne_aleat_actuel\n",
    "    if b.description == \"Interested\":\n",
    "        interested = 2 #Interessé\n",
    "    else: \n",
    "        interested = 1 #Pas Interessé\n",
    "    X.loc[ligne_aleat_actuel, 'Interest'] = interested\n",
    "    \n",
    "\n",
    "    \n",
    "\n",
    "def choisir_ligne_aleat():\n",
    "    \n",
    "### Dans cette fonction, on choisit le prochain jeu à proposer de manière aléatoire (1 fois sur 10) pour ne pas converger trop vite \n",
    "    random_value = random.uniform(0, 1)                 \n",
    "    if random_value < 0.1:\n",
    "        nb_aleat = ligne_aleat()\n",
    "        if X.loc[nb_aleat].Interest == 0:\n",
    "            return nb_aleat\n",
    "    \n",
    "        while(X.loc[nb_aleat].Interest !=0):\n",
    "            nb_aleat = ligne_aleat()\n",
    "        return nb_aleat\n",
    "\n",
    "  \n",
    "   \n",
    "    \n",
    "### XGBoost   \n",
    "    y = X['Interest']\n",
    "    xgboost = GradientBoostingClassifier(n_estimators=10, learning_rate=1.0,max_depth=1, random_state=0).fit(X_copy, y)\n",
    "    #On n'utilise pas ici notre boosting de paramètre car la labélisation était pour celle de préférence\n",
    "\n",
    "\n",
    "### Si on a encore aucune labélisation\n",
    "\n",
    "    if (xgboost.predict_proba(X_copy).shape[1] != 3):\n",
    "        nb_aleat = ligne_aleat()\n",
    "        if X.loc[nb_aleat].Interest ==0:\n",
    "            return nb_aleat\n",
    "        while(X.loc[nb_aleat].Interest != 0):\n",
    "            nb_aleat = ligne_aleat()\n",
    "        return nb_aleat\n",
    "    \n",
    "    \n",
    "    \n",
    "### Ranger par proba\n",
    "    X['prediction'] = [elt[0] for elt in xgboost.predict_proba(X_copy)[:,2:3].tolist()]\n",
    "    sorted_ops = X.sort_values(by=\"prediction\", ascending=False)    #on range les jeux du plus probable d'aimer au moins probable\n",
    "    for i in (sorted_ops.iloc[:,10].index):\n",
    "        if X.loc[i].Interest ==0:                                   #Si le jeu n'est pas labéliser on retourne celui dont il est le plus susceptible d'aimer\n",
    "            return i\n",
    "        \n",
    "\n",
    "\n",
    "def update_Name(b, nb_aleat):\n",
    "    \n",
    "### On met à jour le nom du milieu\n",
    "    global ligne_aleat_actuel\n",
    "\n",
    "    ligne_aleat_actuel = nb_aleat\n",
    "    Name = X.loc[ligne_aleat_actuel].Name+\" Genre:\"+X.loc[ligne_aleat_actuel].Genre+\" Platform:\"+X.loc[ligne_aleat_actuel].Platform+\" Year:\"+str(X.loc[ligne_aleat_actuel].Year)\n",
    "    center.value = Name\n",
    "\n",
    "\n",
    "# On met en place l'application du bouton\n",
    "left_button.on_click(on_button_clicked)\n",
    "right_button.on_click(on_button_clicked)\n",
    "\n",
    "AppLayout(\n",
    "    left_sidebar=left_button,\n",
    "    center=center,\n",
    "    right_sidebar=right_button\n",
    ")"
   ]
  },
  {
   "cell_type": "markdown",
   "id": "unsigned-bandwidth",
   "metadata": {},
   "source": [
    "On obtient ensuite les jeux qui sont le plus suscpetible d'être aimé par l'utilisateur."
   ]
  },
  {
   "cell_type": "code",
   "execution_count": 85,
   "id": "synthetic-football",
   "metadata": {},
   "outputs": [
    {
     "data": {
      "text/html": [
       "<div>\n",
       "<style scoped>\n",
       "    .dataframe tbody tr th:only-of-type {\n",
       "        vertical-align: middle;\n",
       "    }\n",
       "\n",
       "    .dataframe tbody tr th {\n",
       "        vertical-align: top;\n",
       "    }\n",
       "\n",
       "    .dataframe thead th {\n",
       "        text-align: right;\n",
       "    }\n",
       "</style>\n",
       "<table border=\"1\" class=\"dataframe\">\n",
       "  <thead>\n",
       "    <tr style=\"text-align: right;\">\n",
       "      <th></th>\n",
       "      <th>Name</th>\n",
       "      <th>Platform</th>\n",
       "      <th>Year</th>\n",
       "      <th>Genre</th>\n",
       "      <th>Publisher</th>\n",
       "      <th>NA_Sales</th>\n",
       "      <th>EU_Sales</th>\n",
       "      <th>JP_Sales</th>\n",
       "      <th>Global_Sales</th>\n",
       "      <th>Interest</th>\n",
       "      <th>prediction</th>\n",
       "    </tr>\n",
       "  </thead>\n",
       "  <tbody>\n",
       "    <tr>\n",
       "      <th>1258</th>\n",
       "      <td>The Legend of Zelda: Ocarina of Time</td>\n",
       "      <td>Nintendo</td>\n",
       "      <td>1998</td>\n",
       "      <td>Action</td>\n",
       "      <td>Nintendo</td>\n",
       "      <td>4.10</td>\n",
       "      <td>1.89</td>\n",
       "      <td>1.45</td>\n",
       "      <td>7.60</td>\n",
       "      <td>2</td>\n",
       "      <td>0.822475</td>\n",
       "    </tr>\n",
       "    <tr>\n",
       "      <th>15018</th>\n",
       "      <td>Skylanders: Trap Team</td>\n",
       "      <td>Nintendo</td>\n",
       "      <td>2014</td>\n",
       "      <td>Action</td>\n",
       "      <td>Activision</td>\n",
       "      <td>0.14</td>\n",
       "      <td>0.10</td>\n",
       "      <td>0.00</td>\n",
       "      <td>0.26</td>\n",
       "      <td>2</td>\n",
       "      <td>0.424915</td>\n",
       "    </tr>\n",
       "    <tr>\n",
       "      <th>13939</th>\n",
       "      <td>Skylanders Giants</td>\n",
       "      <td>Nintendo</td>\n",
       "      <td>2012</td>\n",
       "      <td>Action</td>\n",
       "      <td>Activision</td>\n",
       "      <td>0.12</td>\n",
       "      <td>0.01</td>\n",
       "      <td>0.00</td>\n",
       "      <td>0.14</td>\n",
       "      <td>0</td>\n",
       "      <td>0.424915</td>\n",
       "    </tr>\n",
       "    <tr>\n",
       "      <th>13849</th>\n",
       "      <td>Family Guy: Back to the Multiverse</td>\n",
       "      <td>Microsoft</td>\n",
       "      <td>2012</td>\n",
       "      <td>Action</td>\n",
       "      <td>Activision</td>\n",
       "      <td>0.14</td>\n",
       "      <td>0.09</td>\n",
       "      <td>0.00</td>\n",
       "      <td>0.25</td>\n",
       "      <td>2</td>\n",
       "      <td>0.424915</td>\n",
       "    </tr>\n",
       "    <tr>\n",
       "      <th>15640</th>\n",
       "      <td>Skylanders: SuperChargers</td>\n",
       "      <td>Nintendo</td>\n",
       "      <td>2015</td>\n",
       "      <td>Action</td>\n",
       "      <td>Activision</td>\n",
       "      <td>0.05</td>\n",
       "      <td>0.06</td>\n",
       "      <td>0.00</td>\n",
       "      <td>0.11</td>\n",
       "      <td>0</td>\n",
       "      <td>0.424915</td>\n",
       "    </tr>\n",
       "    <tr>\n",
       "      <th>...</th>\n",
       "      <td>...</td>\n",
       "      <td>...</td>\n",
       "      <td>...</td>\n",
       "      <td>...</td>\n",
       "      <td>...</td>\n",
       "      <td>...</td>\n",
       "      <td>...</td>\n",
       "      <td>...</td>\n",
       "      <td>...</td>\n",
       "      <td>...</td>\n",
       "      <td>...</td>\n",
       "    </tr>\n",
       "    <tr>\n",
       "      <th>9772</th>\n",
       "      <td>Friend Collection</td>\n",
       "      <td>Nintendo</td>\n",
       "      <td>2009</td>\n",
       "      <td>Misc</td>\n",
       "      <td>Nintendo</td>\n",
       "      <td>0.00</td>\n",
       "      <td>0.00</td>\n",
       "      <td>3.67</td>\n",
       "      <td>3.67</td>\n",
       "      <td>0</td>\n",
       "      <td>0.000000</td>\n",
       "    </tr>\n",
       "    <tr>\n",
       "      <th>3635</th>\n",
       "      <td>Final Fantasy X-2</td>\n",
       "      <td>Sony</td>\n",
       "      <td>2003</td>\n",
       "      <td>Role-Playing</td>\n",
       "      <td>Electronic Arts</td>\n",
       "      <td>1.92</td>\n",
       "      <td>1.08</td>\n",
       "      <td>2.11</td>\n",
       "      <td>5.29</td>\n",
       "      <td>0</td>\n",
       "      <td>0.000000</td>\n",
       "    </tr>\n",
       "    <tr>\n",
       "      <th>4459</th>\n",
       "      <td>Dragon Quest V: Tenkuu no Hanayome</td>\n",
       "      <td>Sony</td>\n",
       "      <td>2004</td>\n",
       "      <td>Role-Playing</td>\n",
       "      <td>Enix Corporation</td>\n",
       "      <td>0.00</td>\n",
       "      <td>0.00</td>\n",
       "      <td>1.65</td>\n",
       "      <td>1.65</td>\n",
       "      <td>0</td>\n",
       "      <td>0.000000</td>\n",
       "    </tr>\n",
       "    <tr>\n",
       "      <th>1658</th>\n",
       "      <td>Hot Shots Golf 2</td>\n",
       "      <td>Sony</td>\n",
       "      <td>1999</td>\n",
       "      <td>Sports</td>\n",
       "      <td>Sony Computer Entertainment</td>\n",
       "      <td>0.25</td>\n",
       "      <td>0.12</td>\n",
       "      <td>1.48</td>\n",
       "      <td>1.88</td>\n",
       "      <td>0</td>\n",
       "      <td>0.000000</td>\n",
       "    </tr>\n",
       "    <tr>\n",
       "      <th>8331</th>\n",
       "      <td>Monster Hunter Freedom Unite</td>\n",
       "      <td>Sony</td>\n",
       "      <td>2008</td>\n",
       "      <td>Role-Playing</td>\n",
       "      <td>Capcom</td>\n",
       "      <td>0.47</td>\n",
       "      <td>0.57</td>\n",
       "      <td>4.13</td>\n",
       "      <td>5.50</td>\n",
       "      <td>0</td>\n",
       "      <td>0.000000</td>\n",
       "    </tr>\n",
       "  </tbody>\n",
       "</table>\n",
       "<p>2000 rows × 11 columns</p>\n",
       "</div>"
      ],
      "text/plain": [
       "                                       Name   Platform  Year         Genre  \\\n",
       "1258   The Legend of Zelda: Ocarina of Time   Nintendo  1998        Action   \n",
       "15018                 Skylanders: Trap Team   Nintendo  2014        Action   \n",
       "13939                     Skylanders Giants   Nintendo  2012        Action   \n",
       "13849    Family Guy: Back to the Multiverse  Microsoft  2012        Action   \n",
       "15640             Skylanders: SuperChargers   Nintendo  2015        Action   \n",
       "...                                     ...        ...   ...           ...   \n",
       "9772                      Friend Collection   Nintendo  2009          Misc   \n",
       "3635                      Final Fantasy X-2       Sony  2003  Role-Playing   \n",
       "4459     Dragon Quest V: Tenkuu no Hanayome       Sony  2004  Role-Playing   \n",
       "1658                       Hot Shots Golf 2       Sony  1999        Sports   \n",
       "8331           Monster Hunter Freedom Unite       Sony  2008  Role-Playing   \n",
       "\n",
       "                         Publisher  NA_Sales  EU_Sales  JP_Sales  \\\n",
       "1258                      Nintendo      4.10      1.89      1.45   \n",
       "15018                   Activision      0.14      0.10      0.00   \n",
       "13939                   Activision      0.12      0.01      0.00   \n",
       "13849                   Activision      0.14      0.09      0.00   \n",
       "15640                   Activision      0.05      0.06      0.00   \n",
       "...                            ...       ...       ...       ...   \n",
       "9772                      Nintendo      0.00      0.00      3.67   \n",
       "3635               Electronic Arts      1.92      1.08      2.11   \n",
       "4459              Enix Corporation      0.00      0.00      1.65   \n",
       "1658   Sony Computer Entertainment      0.25      0.12      1.48   \n",
       "8331                        Capcom      0.47      0.57      4.13   \n",
       "\n",
       "       Global_Sales  Interest  prediction  \n",
       "1258           7.60         2    0.822475  \n",
       "15018          0.26         2    0.424915  \n",
       "13939          0.14         0    0.424915  \n",
       "13849          0.25         2    0.424915  \n",
       "15640          0.11         0    0.424915  \n",
       "...             ...       ...         ...  \n",
       "9772           3.67         0    0.000000  \n",
       "3635           5.29         0    0.000000  \n",
       "4459           1.65         0    0.000000  \n",
       "1658           1.88         0    0.000000  \n",
       "8331           5.50         0    0.000000  \n",
       "\n",
       "[2000 rows x 11 columns]"
      ]
     },
     "execution_count": 85,
     "metadata": {},
     "output_type": "execute_result"
    }
   ],
   "source": [
    "X.sort_values(by = ['prediction'],ascending = False)"
   ]
  },
  {
   "cell_type": "markdown",
   "id": "regulated-office",
   "metadata": {},
   "source": [
    "On arrive à plutôt bien prédire les données par exemple si on aime une plateforme ou un genre, on nous propose beaucoup de jeux de ce genre. "
   ]
  },
  {
   "cell_type": "markdown",
   "id": "gothic-assault",
   "metadata": {},
   "source": [
    "### III. 2) Application avec une labelisation par préférence"
   ]
  },
  {
   "cell_type": "markdown",
   "id": "light-convention",
   "metadata": {},
   "source": [
    "Dans cette application, nous allons donc utiliser random forest car c'est le plus performant selon notre première analyse."
   ]
  },
  {
   "cell_type": "code",
   "execution_count": 86,
   "id": "distinguished-dialogue",
   "metadata": {},
   "outputs": [],
   "source": [
    "%reset -f"
   ]
  },
  {
   "cell_type": "code",
   "execution_count": 87,
   "id": "distributed-vitamin",
   "metadata": {},
   "outputs": [],
   "source": [
    "import pandas as pd\n",
    "import numpy as np\n",
    "from ipywidgets import AppLayout, Button, GridspecLayout, Image, Layout, Text, Box\n",
    "import random\n",
    "from sklearn import preprocessing\n",
    "import sklearn\n",
    "from sklearn.model_selection import train_test_split\n",
    "import random\n",
    "from sklearn.linear_model import LogisticRegression\n",
    "import matplotlib.pyplot as plt\n",
    "from random import randint\n",
    "from sklearn.model_selection import cross_validate\n",
    "from sklearn.model_selection import RandomizedSearchCV\n",
    "from sklearn.model_selection import KFold\n",
    "from sklearn.model_selection import cross_val_score\n",
    "from sklearn.datasets import make_hastie_10_2\n",
    "from sklearn.ensemble import GradientBoostingClassifier\n",
    "from sklearn.linear_model import LogisticRegression\n",
    "from sklearn.neighbors import KNeighborsClassifier\n",
    "from sklearn.ensemble import AdaBoostClassifier\n",
    "from sklearn.datasets import make_classification\n",
    "from sklearn.ensemble import RandomForestRegressor\n",
    "import warnings\n",
    "warnings.filterwarnings(\"ignore\")"
   ]
  },
  {
   "cell_type": "code",
   "execution_count": 88,
   "id": "located-poetry",
   "metadata": {},
   "outputs": [],
   "source": [
    "readers = pd.read_csv('vgsales.csv')"
   ]
  },
  {
   "cell_type": "markdown",
   "id": "facial-badge",
   "metadata": {},
   "source": [
    "On réapplique le pré-processing de la première partie"
   ]
  },
  {
   "cell_type": "code",
   "execution_count": 89,
   "id": "developmental-berry",
   "metadata": {},
   "outputs": [],
   "source": [
    "readers = sklearn.utils.shuffle(readers)\n",
    "\n",
    "indesirable = ['SAT','2600','NES','GB', 'DC', 'GEN', 'NG', 'SCD', 'WS', '3DO', 'TG16', 'GG', 'PCFX','PSV']\n",
    "for elt in indesirable:\n",
    "    readers = readers.drop(readers[readers.Platform == elt].index)\n",
    "    \n",
    "readers['Platform'] = readers['Platform'].replace(['DS','Wii','GBA','GC','3DS','N64','SNES','WiiU'], 'Nintendo')\n",
    "readers['Platform'] = readers['Platform'].replace(['PS2','PS3','PSP','PS','PS4'], 'Sony')\n",
    "readers['Platform'] = readers['Platform'].replace(['X360','XB','XOne'], 'Microsoft')\n",
    "\n",
    "\n",
    "readers = readers.drop(columns=[\"Rank\",\"Other_Sales\"])\n",
    "\n",
    "readers=readers.drop(readers[readers.Global_Sales==82.74].index)\n",
    "\n",
    "X=readers\n",
    "X = pd.DataFrame(X).fillna(\"Unknow\")\n",
    "X[\"est_labelise\"]=0\n",
    "X[\"Interest\"] = 1\n"
   ]
  },
  {
   "cell_type": "markdown",
   "id": "appreciated-startup",
   "metadata": {},
   "source": [
    "A titre de rapidité, nous allons prendre seulement 2000 jeux de notre base de données car sinon lorsque l'on mettra en route notre application, elle prendra du temps avant de sortir un nouveau jeu. \n",
    "\n",
    "Cependant, sur un ordinateur plus puissant il est possible de lancer le code avec la base de données en entier ou sinon il suffit d'être patient ! "
   ]
  },
  {
   "cell_type": "code",
   "execution_count": 90,
   "id": "combined-ceramic",
   "metadata": {},
   "outputs": [],
   "source": [
    "X = X[:2000]"
   ]
  },
  {
   "cell_type": "markdown",
   "id": "eastern-publication",
   "metadata": {},
   "source": [
    "(On ne va donc pas pouvoir utiliser les hyperparamètres boostés précédemment car nous avons tronqué notre base de données, dans une mise en production, nous aurions pris les hyper paramètres plus haut)"
   ]
  },
  {
   "cell_type": "markdown",
   "id": "civilian-seventh",
   "metadata": {},
   "source": [
    "Puis, on re labélise les données comme dans la première partie du projet de 1 à 5 selon la localisation de l'acheteur."
   ]
  },
  {
   "cell_type": "code",
   "execution_count": 91,
   "id": "happy-triple",
   "metadata": {},
   "outputs": [],
   "source": [
    "# Ici on traite les ventes dans le monde\n",
    "\n",
    "\n",
    "seuil_Global_Sales_75= int(0.25*len(X['Global_Sales'].sort_values()))             #nombre de jeux qui font parti des 25% des jeux les moins vendus       \n",
    "liste_Global_Sales_75= X['Global_Sales'].sort_values()                            #on trie les jeux par ordre croissant de vente\n",
    "liste_Global_Sales_75=liste_Global_Sales_75.tolist()\n",
    "\n",
    "\n",
    "for i in range(seuil_Global_Sales_75):\n",
    "    liste_Global_Sales_75.pop(0)\n",
    "\n",
    "#A la fin on obtient une liste des 75% des jeux les plus vendus dans le monde\n",
    "\n",
    "\n",
    "seuil_Global_Sales_40= int(0.6*len(X['Global_Sales'].sort_values()))             #nombre de jeux qui qui font parti des 60% les moins vendus       \n",
    "liste_Global_Sales_40= X['Global_Sales'].sort_values()                            #on trie les jeux par ordre croissant de vente\n",
    "liste_Global_Sales_40=liste_Global_Sales_40.tolist()\n",
    "\n",
    "\n",
    "for i in range(seuil_Global_Sales_40):\n",
    "    liste_Global_Sales_40.pop(0)\n",
    "    \n",
    "#A la fin on obtient une liste des 40% des jeux les plus vendus dans le monde"
   ]
  },
  {
   "cell_type": "code",
   "execution_count": 92,
   "id": "convenient-oliver",
   "metadata": {},
   "outputs": [],
   "source": [
    "# Ici on traite les ventes dans la région de l'acheteur\n",
    "\n",
    "def traitementpays(pays):\n",
    "\n",
    "#L'acheteur vient d'Amérique du Nord\n",
    "    if pays==0:                                                                   \n",
    "        seuil_region_Sales_75= int(0.25*len(X['NA_Sales'].sort_values()))             #nombre de jeux qui font parti des 25% des jeux les moins vendus       \n",
    "        liste_region_Sales_75= X['NA_Sales'].sort_values()                            #on trie les jeux par ordre croissant de vente\n",
    "        liste_region_Sales_75=liste_region_Sales_75.tolist()\n",
    "\n",
    "\n",
    "        for i in range(seuil_region_Sales_75):\n",
    "            liste_region_Sales_75.pop(0)\n",
    "\n",
    "#A la fin on obtient une liste des 75% des jeux les plus vendus en Amérique du Nord\n",
    "\n",
    "\n",
    "        seuil_region_Sales_15= int(0.85*len(X['NA_Sales'].sort_values()))             #nombre de jeux qui qui font parti des 85% les moins vendus       \n",
    "        liste_region_Sales_15= X['NA_Sales'].sort_values()                            #on trie les jeux par ordre croissant de vente\n",
    "        liste_region_Sales_15=liste_region_Sales_15.tolist()\n",
    "\n",
    "\n",
    "        for i in range(seuil_region_Sales_15):\n",
    "            liste_region_Sales_15.pop(0)\n",
    "    \n",
    "#A la fin on obtient une liste des 15% des jeux les plus vendus en Amérique du Nord\n",
    "\n",
    "\n",
    "\n",
    "\n",
    "\n",
    "\n",
    "#L'acheteur vient d'Europe\n",
    "    elif pays==1:\n",
    "        seuil_region_Sales_75= int(0.25*len(X['EU_Sales'].sort_values()))             #nombre de jeux qui font parti des 25% des jeux les moins vendus       \n",
    "        liste_region_Sales_75= X['EU_Sales'].sort_values()                            #on trie les jeux par ordre croissant de vente\n",
    "        liste_region_Sales_75=liste_region_Sales_75.tolist()\n",
    "\n",
    "\n",
    "        for i in range(seuil_region_Sales_75):\n",
    "            liste_region_Sales_75.pop(0)\n",
    "\n",
    "#A la fin on obtient une liste des 75% des jeux les plus vendus en Europe\n",
    "\n",
    "\n",
    "        seuil_region_Sales_15= int(0.85*len(X['EU_Sales'].sort_values()))             #nombre de jeux qui qui font parti des 85% les moins vendus       \n",
    "        liste_region_Sales_15= X['EU_Sales'].sort_values()                            #on trie les jeux par ordre croissant de vente\n",
    "        liste_region_Sales_15=liste_region_Sales_15.tolist()\n",
    "\n",
    "\n",
    "        for i in range(seuil_region_Sales_15):\n",
    "            liste_region_Sales_15.pop(0)\n",
    "    \n",
    "#A la fin on obtient une liste des 15% des jeux les plus vendus en Europe\n",
    "\n",
    "\n",
    "\n",
    "\n",
    "\n",
    "#L'acheteur vient du Japon\n",
    "    else : \n",
    "        seuil_region_Sales_75= int(0.25*len(X['JP_Sales'].sort_values()))             #nombre de jeux qui font parti des 25% des jeux les moins vendus       \n",
    "        liste_region_Sales_75= X['JP_Sales'].sort_values()                            #on trie les jeux par ordre croissant de vente\n",
    "        liste_region_Sales_75=liste_region_Sales_75.tolist()\n",
    "\n",
    "\n",
    "        for i in range(seuil_region_Sales_75):\n",
    "            liste_region_Sales_75.pop(0)\n",
    "\n",
    "#A la fin on obtient une liste des 75% des jeux les plus vendus au Japon\n",
    "\n",
    "\n",
    "        seuil_region_Sales_15= int(0.85*len(X['JP_Sales'].sort_values()))             #nombre de jeux qui qui font parti des 85% les moins vendus       \n",
    "        liste_region_Sales_15= X['JP_Sales'].sort_values()                            #on trie les jeux par ordre croissant de vente\n",
    "        liste_region_Sales_15=liste_region_Sales_15.tolist()\n",
    "\n",
    "\n",
    "        for i in range(seuil_region_Sales_15):\n",
    "            liste_region_Sales_15.pop(0)\n",
    "    \n",
    "#A la fin on obtient une liste des 15% des jeux les plus vendus au Japon\n",
    "\n",
    "    for elt in X.iterrows():\n",
    "        X.loc[elt[0], 'Interest'] = 1                                ##On met le jeu par défaut à 1\n",
    "    \n",
    "    #Si l'acheteur vient d'Amérique\n",
    "        if pays==0:\n",
    "            if X.loc[elt[0]].NA_Sales in liste_region_Sales_75 :      ##Le jeu est dans les 75% les plus vendus en Amérique du Nord, on le met à neutre 3\n",
    "                X.loc[elt[0], 'Interest'] = 3\n",
    "            \n",
    "            if X.loc[elt[0]].NA_Sales in liste_region_Sales_15 :      ##Le jeu est dans les 15% les plus vendus en Amérique du Nord, on le met à plutôt interessé 4\n",
    "                X.loc[elt[0], 'Interest'] = 4\n",
    "            \n",
    "    #Si l'acheteur vient d'Europe\n",
    "        elif pays==1:\n",
    "            if X.loc[elt[0]].EU_Sales in liste_region_Sales_75 :      ##Le jeu est dans les 75% les plus vendus en Europe, on le met à neutre 3\n",
    "                X.loc[elt[0], 'Interest'] = 3\n",
    "            \n",
    "            if X.loc[elt[0]].EU_Sales in liste_region_Sales_15 :      ##Le jeu est dans les 15% les plus vendus en Europe, on le met à plutôt interessé 4\n",
    "                X.loc[elt[0], 'Interest'] = 4\n",
    "            \n",
    "    #Si l'acheteur vient du Japon\n",
    "        else :\n",
    "            if X.loc[elt[0]].JP_Sales in liste_region_Sales_75 :      ##Le jeu est dans les 75% les plus vendus au Japon, on le met à neutre 3\n",
    "                X.loc[elt[0], 'Interest'] = 3\n",
    "            \n",
    "            if X.loc[elt[0]].JP_Sales in liste_region_Sales_15 :      ##Le jeu est dans les 15% les plus vendus au Japon, on le met à plutôt interessé 4\n",
    "                X.loc[elt[0], 'Interest'] = 4\n",
    "\n",
    "            \n",
    "            \n",
    "        if X.loc[elt[0], 'Interest'] < 3 :                              #Si on est pas déjà au moins à neutre\n",
    "            if X.loc[elt[0]].Global_Sales in liste_Global_Sales_75 :      ##Le jeu est dans les 75% les plus vendus dans le monde, on le met à plutôt pas interessé\n",
    "                X.loc[elt[0], 'Interest'] = 2\n",
    "    \n",
    "            if X.loc[elt[0]].Global_Sales in liste_Global_Sales_40 :      ##Le jeu est dans les 40% les plus vendus dans le monde, on le met à neutre.\n",
    "                X.loc[elt[0], 'Interest'] = 3\n",
    "    "
   ]
  },
  {
   "cell_type": "code",
   "execution_count": 93,
   "id": "saved-queue",
   "metadata": {},
   "outputs": [
    {
     "name": "stdout",
     "output_type": "stream",
     "text": [
      "De quelle région venez-vous ?\n",
      " 0 : Amérique du Nord\n",
      " 1 : Europe\n",
      " 2 : Japon\n",
      "1\n"
     ]
    }
   ],
   "source": [
    "L=[0,1,2]\n",
    "pays=3\n",
    "while pays not in L:\n",
    "    print(\"De quelle région venez-vous ?\\n 0 : Amérique du Nord\\n 1 : Europe\\n 2 : Japon\")\n",
    "    pays = int(input())\n",
    "    \n",
    "\n",
    "traitementpays(pays)      ##on fait un pré-traitement des données par région"
   ]
  },
  {
   "cell_type": "markdown",
   "id": "lonely-cargo",
   "metadata": {},
   "source": [
    "On va ensuite labeliser les données comme on nous avons pu voir précédemment en utilisant les préférences. "
   ]
  },
  {
   "cell_type": "code",
   "execution_count": 94,
   "id": "brutal-gothic",
   "metadata": {},
   "outputs": [],
   "source": [
    "### ENCODING ####        \n",
    "cols = [\"Platform\", \"Genre\",\"Publisher\",\"Name\"]\n",
    "enc = preprocessing.OrdinalEncoder()\n",
    "X_copy = X.copy()                                                  #On fait une copie pour garder les noms sans encodage pour pouvoir les afficher ensuite\n",
    "for col in cols:\n",
    "    X_copy[col] = enc.fit_transform(X_copy[[col]])\n",
    "    \n",
    "    \n",
    "X_copy = X_copy.drop('Interest',axis=1)"
   ]
  },
  {
   "cell_type": "code",
   "execution_count": 95,
   "id": "requested-consumer",
   "metadata": {},
   "outputs": [],
   "source": [
    "def create_button(description, button_style):\n",
    "    return Button(\n",
    "        description=description,\n",
    "        button_style=button_style,\n",
    "        layout=Layout(height='auto', width='auto')\n",
    "    )\n",
    "\n",
    "\n",
    "def ligne_aleat():\n",
    "    liste_index=X.index.values.tolist()\n",
    "    index_aleat=random.randint(0,len(liste_index))\n",
    "    return liste_index[index_aleat]\n",
    "\n",
    "\n",
    "\n",
    "def get_Name(index, dataset):\n",
    "    return Text(value= dataset.loc[index].Name+\" Genre:\"+dataset.loc[index].Genre+\" Platform:\"+dataset.loc[index].Platform+\" Year:\"+str(dataset.loc[index].Year) , placeholder='Type something',description='Game:',disabled=False)\n"
   ]
  },
  {
   "cell_type": "code",
   "execution_count": 96,
   "id": "prompt-church",
   "metadata": {},
   "outputs": [
    {
     "data": {
      "application/vnd.jupyter.widget-view+json": {
       "model_id": "60c7e55c97ef455f9c702d6ad17e9294",
       "version_major": 2,
       "version_minor": 0
      },
      "text/plain": [
       "AppLayout(children=(Button(button_style='danger', description='Not Interested', layout=Layout(grid_area='left-…"
      ]
     },
     "metadata": {},
     "output_type": "display_data"
    }
   ],
   "source": [
    "# bouton gauche: Not Interested\n",
    "left_button =  create_button('Not Interested', 'danger')\n",
    "\n",
    "# nom au centre\n",
    "ligne_aleat_actuel = ligne_aleat()\n",
    "center = get_Name(ligne_aleat_actuel, X)\n",
    "Name = get_Name(ligne_aleat_actuel, X)\n",
    "\n",
    "# bouton droit: Interested\n",
    "right_button =  create_button('Interested', 'success')\n",
    "\n",
    "cols = [\"Platform\", \"Genre\",\"Publisher\",\"Interest\"]\n",
    "\n",
    "def on_button_clicked(b):\n",
    "\n",
    "# On met à jour les valeurs selon le choix de l'utilisateur\n",
    "    update_values(b)\n",
    "    nb_aleat = choisir_ligne_aleat()\n",
    "    update_Name(b, nb_aleat)\n",
    "\n",
    "    \n",
    "\n",
    "def update_values(b):\n",
    "## On met à jour la colonne 'interested'\n",
    "\n",
    "    global ligne_aleat_actuel\n",
    "    if b.description == \"Interested\":\n",
    "        X.loc[ligne_aleat_actuel, 'Interest'] +=1   #Interessé  \n",
    "    else: \n",
    "        X.loc[ligne_aleat_actuel, 'Interest'] = 1   #Pas Interessé\n",
    "    X.loc[ligne_aleat_actuel, 'est_labelise'] = 1\n",
    "\n",
    "    \n",
    "\n",
    "def choisir_ligne_aleat():\n",
    "    \n",
    "### Dans cette fonction, on choisit le prochain jeu à proposer de manière aléatoire (1 fois sur 10)\n",
    "    random_value = random.uniform(0, 1)                 \n",
    "    if random_value < 0.1:\n",
    "        nb_aleat = ligne_aleat()\n",
    "        if X.loc[nb_aleat].est_labelise == 0:\n",
    "            return nb_aleat\n",
    "    \n",
    "        while(X.loc[nb_aleat].est_labelise !=0):\n",
    "            nb_aleat = ligne_aleat()\n",
    "        return nb_aleat\n",
    "\n",
    "    \n",
    "### XGBoost  ### \n",
    "    y = X['Interest']\n",
    "    xgboost = GradientBoostingClassifier(n_estimators=100, learning_rate=0.01,max_depth=1, random_state=0).fit(X_copy, y)\n",
    "    \n",
    "    \n",
    "### Ranger par proba\n",
    "                           #moyenne entre les deux dernieres valeurs de predict proba pour chaque jeu \n",
    "    taille=xgboost.predict_proba(X_copy).shape[1]\n",
    "    l=xgboost.predict_proba(X_copy)[:,taille-2:taille].tolist()\n",
    "    liste=[]\n",
    "    for i in range(len(l)):\n",
    "        somme=l[i][0]+l[i][1]\n",
    "        liste.append(somme)\n",
    "    X['prediction'] = liste\n",
    "    \n",
    "    sorted_ops = X.sort_values(by=\"prediction\", ascending=False)\n",
    "    for i in (sorted_ops.iloc[:,11].index):\n",
    "        if X.loc[i].est_labelise ==0:\n",
    "            return i\n",
    "\n",
    "\n",
    "def update_Name(b, nb_aleat):\n",
    "#on renouvelle le nom au centre de l'application\n",
    "    global ligne_aleat_actuel\n",
    "\n",
    "    ligne_aleat_actuel = nb_aleat\n",
    "    Name = X.loc[ligne_aleat_actuel].Name+\" Genre:\"+X.loc[ligne_aleat_actuel].Genre+\" Platform:\"+X.loc[ligne_aleat_actuel].Platform+\" Year:\"+str(X.loc[ligne_aleat_actuel].Year)\n",
    "    center.value = Name\n",
    "    \n",
    "\n",
    "# Set the on_click function to the button\n",
    "left_button.on_click(on_button_clicked)\n",
    "right_button.on_click(on_button_clicked)\n",
    "\n",
    "AppLayout(\n",
    "    left_sidebar=left_button,\n",
    "    center=center,\n",
    "    right_sidebar=right_button\n",
    ")"
   ]
  },
  {
   "cell_type": "markdown",
   "id": "assigned-delhi",
   "metadata": {},
   "source": [
    "On va afficher notre base de données par ordre de prédiction selon notre modèle."
   ]
  },
  {
   "cell_type": "code",
   "execution_count": 68,
   "id": "trying-backup",
   "metadata": {},
   "outputs": [
    {
     "data": {
      "text/html": [
       "<div>\n",
       "<style scoped>\n",
       "    .dataframe tbody tr th:only-of-type {\n",
       "        vertical-align: middle;\n",
       "    }\n",
       "\n",
       "    .dataframe tbody tr th {\n",
       "        vertical-align: top;\n",
       "    }\n",
       "\n",
       "    .dataframe thead th {\n",
       "        text-align: right;\n",
       "    }\n",
       "</style>\n",
       "<table border=\"1\" class=\"dataframe\">\n",
       "  <thead>\n",
       "    <tr style=\"text-align: right;\">\n",
       "      <th></th>\n",
       "      <th>Name</th>\n",
       "      <th>Platform</th>\n",
       "      <th>Year</th>\n",
       "      <th>Genre</th>\n",
       "      <th>Publisher</th>\n",
       "      <th>NA_Sales</th>\n",
       "      <th>EU_Sales</th>\n",
       "      <th>JP_Sales</th>\n",
       "      <th>Global_Sales</th>\n",
       "      <th>est_labelise</th>\n",
       "      <th>Interest</th>\n",
       "      <th>prediction</th>\n",
       "    </tr>\n",
       "  </thead>\n",
       "  <tbody>\n",
       "    <tr>\n",
       "      <th>6611</th>\n",
       "      <td>Digimon World DS</td>\n",
       "      <td>Nintendo</td>\n",
       "      <td>2006</td>\n",
       "      <td>Role-Playing</td>\n",
       "      <td>Namco Bandai Games</td>\n",
       "      <td>0.10</td>\n",
       "      <td>0.00</td>\n",
       "      <td>0.00</td>\n",
       "      <td>0.11</td>\n",
       "      <td>0</td>\n",
       "      <td>3</td>\n",
       "      <td>0.999858</td>\n",
       "    </tr>\n",
       "    <tr>\n",
       "      <th>5074</th>\n",
       "      <td>Trigger Man</td>\n",
       "      <td>Microsoft</td>\n",
       "      <td>2004</td>\n",
       "      <td>Shooter</td>\n",
       "      <td>Crave Entertainment</td>\n",
       "      <td>0.03</td>\n",
       "      <td>0.01</td>\n",
       "      <td>0.00</td>\n",
       "      <td>0.05</td>\n",
       "      <td>0</td>\n",
       "      <td>3</td>\n",
       "      <td>0.999858</td>\n",
       "    </tr>\n",
       "    <tr>\n",
       "      <th>6489</th>\n",
       "      <td>Phantasy Star Universe</td>\n",
       "      <td>Sony</td>\n",
       "      <td>2006</td>\n",
       "      <td>Role-Playing</td>\n",
       "      <td>Sega</td>\n",
       "      <td>0.00</td>\n",
       "      <td>0.00</td>\n",
       "      <td>0.19</td>\n",
       "      <td>0.19</td>\n",
       "      <td>0</td>\n",
       "      <td>3</td>\n",
       "      <td>0.999858</td>\n",
       "    </tr>\n",
       "    <tr>\n",
       "      <th>12415</th>\n",
       "      <td>King of Fighters 2002: Unlimited Match Tougeki...</td>\n",
       "      <td>Sony</td>\n",
       "      <td>2010</td>\n",
       "      <td>Fighting</td>\n",
       "      <td>SNK Playmore</td>\n",
       "      <td>0.00</td>\n",
       "      <td>0.00</td>\n",
       "      <td>0.01</td>\n",
       "      <td>0.01</td>\n",
       "      <td>0</td>\n",
       "      <td>3</td>\n",
       "      <td>0.999858</td>\n",
       "    </tr>\n",
       "    <tr>\n",
       "      <th>6559</th>\n",
       "      <td>Master Jin Jin's IQ Challenge</td>\n",
       "      <td>Nintendo</td>\n",
       "      <td>2006</td>\n",
       "      <td>Misc</td>\n",
       "      <td>505 Games</td>\n",
       "      <td>0.13</td>\n",
       "      <td>0.00</td>\n",
       "      <td>0.00</td>\n",
       "      <td>0.14</td>\n",
       "      <td>0</td>\n",
       "      <td>3</td>\n",
       "      <td>0.999858</td>\n",
       "    </tr>\n",
       "    <tr>\n",
       "      <th>...</th>\n",
       "      <td>...</td>\n",
       "      <td>...</td>\n",
       "      <td>...</td>\n",
       "      <td>...</td>\n",
       "      <td>...</td>\n",
       "      <td>...</td>\n",
       "      <td>...</td>\n",
       "      <td>...</td>\n",
       "      <td>...</td>\n",
       "      <td>...</td>\n",
       "      <td>...</td>\n",
       "      <td>...</td>\n",
       "    </tr>\n",
       "    <tr>\n",
       "      <th>742</th>\n",
       "      <td>Pilotwings 64</td>\n",
       "      <td>Nintendo</td>\n",
       "      <td>1996</td>\n",
       "      <td>Simulation</td>\n",
       "      <td>Nintendo</td>\n",
       "      <td>0.56</td>\n",
       "      <td>0.24</td>\n",
       "      <td>0.30</td>\n",
       "      <td>1.12</td>\n",
       "      <td>0</td>\n",
       "      <td>4</td>\n",
       "      <td>0.997378</td>\n",
       "    </tr>\n",
       "    <tr>\n",
       "      <th>3672</th>\n",
       "      <td>DDRMAX2: Dance Dance Revolution</td>\n",
       "      <td>Sony</td>\n",
       "      <td>2003</td>\n",
       "      <td>Simulation</td>\n",
       "      <td>Konami Digital Entertainment</td>\n",
       "      <td>1.05</td>\n",
       "      <td>0.59</td>\n",
       "      <td>0.00</td>\n",
       "      <td>1.81</td>\n",
       "      <td>0</td>\n",
       "      <td>4</td>\n",
       "      <td>0.997378</td>\n",
       "    </tr>\n",
       "    <tr>\n",
       "      <th>1047</th>\n",
       "      <td>NBA ShootOut '97</td>\n",
       "      <td>Sony</td>\n",
       "      <td>1997</td>\n",
       "      <td>Sports</td>\n",
       "      <td>Sony Computer Entertainment</td>\n",
       "      <td>0.35</td>\n",
       "      <td>0.24</td>\n",
       "      <td>0.00</td>\n",
       "      <td>0.62</td>\n",
       "      <td>0</td>\n",
       "      <td>4</td>\n",
       "      <td>0.997378</td>\n",
       "    </tr>\n",
       "    <tr>\n",
       "      <th>2384</th>\n",
       "      <td>NCAA Football 2002</td>\n",
       "      <td>Sony</td>\n",
       "      <td>2001</td>\n",
       "      <td>Sports</td>\n",
       "      <td>Electronic Arts</td>\n",
       "      <td>0.77</td>\n",
       "      <td>0.60</td>\n",
       "      <td>0.00</td>\n",
       "      <td>1.57</td>\n",
       "      <td>0</td>\n",
       "      <td>4</td>\n",
       "      <td>0.997378</td>\n",
       "    </tr>\n",
       "    <tr>\n",
       "      <th>1355</th>\n",
       "      <td>NFL Xtreme</td>\n",
       "      <td>Sony</td>\n",
       "      <td>1998</td>\n",
       "      <td>Sports</td>\n",
       "      <td>Sony Computer Entertainment</td>\n",
       "      <td>0.38</td>\n",
       "      <td>0.26</td>\n",
       "      <td>0.00</td>\n",
       "      <td>0.69</td>\n",
       "      <td>0</td>\n",
       "      <td>4</td>\n",
       "      <td>0.997378</td>\n",
       "    </tr>\n",
       "  </tbody>\n",
       "</table>\n",
       "<p>2000 rows × 12 columns</p>\n",
       "</div>"
      ],
      "text/plain": [
       "                                                    Name   Platform  Year  \\\n",
       "6611                                    Digimon World DS   Nintendo  2006   \n",
       "5074                                         Trigger Man  Microsoft  2004   \n",
       "6489                              Phantasy Star Universe       Sony  2006   \n",
       "12415  King of Fighters 2002: Unlimited Match Tougeki...       Sony  2010   \n",
       "6559                       Master Jin Jin's IQ Challenge   Nintendo  2006   \n",
       "...                                                  ...        ...   ...   \n",
       "742                                        Pilotwings 64   Nintendo  1996   \n",
       "3672                     DDRMAX2: Dance Dance Revolution       Sony  2003   \n",
       "1047                                    NBA ShootOut '97       Sony  1997   \n",
       "2384                                  NCAA Football 2002       Sony  2001   \n",
       "1355                                          NFL Xtreme       Sony  1998   \n",
       "\n",
       "              Genre                     Publisher  NA_Sales  EU_Sales  \\\n",
       "6611   Role-Playing            Namco Bandai Games      0.10      0.00   \n",
       "5074        Shooter           Crave Entertainment      0.03      0.01   \n",
       "6489   Role-Playing                          Sega      0.00      0.00   \n",
       "12415      Fighting                  SNK Playmore      0.00      0.00   \n",
       "6559           Misc                     505 Games      0.13      0.00   \n",
       "...             ...                           ...       ...       ...   \n",
       "742      Simulation                      Nintendo      0.56      0.24   \n",
       "3672     Simulation  Konami Digital Entertainment      1.05      0.59   \n",
       "1047         Sports   Sony Computer Entertainment      0.35      0.24   \n",
       "2384         Sports               Electronic Arts      0.77      0.60   \n",
       "1355         Sports   Sony Computer Entertainment      0.38      0.26   \n",
       "\n",
       "       JP_Sales  Global_Sales  est_labelise  Interest  prediction  \n",
       "6611       0.00          0.11             0         3    0.999858  \n",
       "5074       0.00          0.05             0         3    0.999858  \n",
       "6489       0.19          0.19             0         3    0.999858  \n",
       "12415      0.01          0.01             0         3    0.999858  \n",
       "6559       0.00          0.14             0         3    0.999858  \n",
       "...         ...           ...           ...       ...         ...  \n",
       "742        0.30          1.12             0         4    0.997378  \n",
       "3672       0.00          1.81             0         4    0.997378  \n",
       "1047       0.00          0.62             0         4    0.997378  \n",
       "2384       0.00          1.57             0         4    0.997378  \n",
       "1355       0.00          0.69             0         4    0.997378  \n",
       "\n",
       "[2000 rows x 12 columns]"
      ]
     },
     "execution_count": 68,
     "metadata": {},
     "output_type": "execute_result"
    }
   ],
   "source": [
    "X.sort_values(by=\"prediction\", ascending=False)"
   ]
  },
  {
   "cell_type": "markdown",
   "id": "waiting-stroke",
   "metadata": {},
   "source": [
    "Dans notre simulation on a aimé un grand nombre de jeu d'action et on remarque qu'en haut de la liste les jeux sont tous d'action donc notre algorithme a bien convergé."
   ]
  },
  {
   "cell_type": "markdown",
   "id": "smaller-writer",
   "metadata": {},
   "source": [
    "## Conclusion"
   ]
  },
  {
   "cell_type": "markdown",
   "id": "acquired-bundle",
   "metadata": {},
   "source": [
    "Notre projet a ainsi abouti a une application qui fonctionne. Cependant, un acheteur reste irrationnel et peut parfois aimer ou non des jeux sans explication, c'est pourquoi il est parfois difficile de faire un système de recommendation. \n",
    "\n",
    "\n",
    "Nous avons choisi comme modèle xgboost mais il serait intéressant d'enregistrer les scores selon le bot etc ce qui est compliqué sur un notebook car on réinitialise au début de chaque lancement.\n",
    "\n",
    "Pour une mise en production sur un site de vente de jeux une amélioration possible serait d'aggréger les préférences selon le temps passé à regarder un jeu, analyser ses habitudes etc."
   ]
  }
 ],
 "metadata": {
  "kernelspec": {
   "display_name": "Python 3",
   "language": "python",
   "name": "python3"
  },
  "language_info": {
   "codemirror_mode": {
    "name": "ipython",
    "version": 3
   },
   "file_extension": ".py",
   "mimetype": "text/x-python",
   "name": "python",
   "nbconvert_exporter": "python",
   "pygments_lexer": "ipython3",
   "version": "3.9.1"
  }
 },
 "nbformat": 4,
 "nbformat_minor": 5
}
